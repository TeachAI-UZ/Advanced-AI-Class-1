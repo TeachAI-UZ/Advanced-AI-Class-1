{
  "cells": [
    {
      "cell_type": "code",
      "execution_count": 1,
      "metadata": {
        "id": "tdH-N_3Z_UAt"
      },
      "outputs": [],
      "source": [
        "import math\n",
        "import numpy as np\n",
        "import matplotlib.pyplot as plt\n",
        "from graphviz import Digraph\n",
        "\n",
        "%matplotlib inline\n",
        "%load_ext autoreload\n",
        "%autoreload 2"
      ]
    },
    {
      "cell_type": "code",
      "execution_count": 2,
      "metadata": {
        "id": "ItDZprVxGvn6"
      },
      "outputs": [],
      "source": [
        "class Value:\n",
        "    \n",
        "    def __init__(self, data, _children=(), _op=\"\", label=\"\"): \n",
        "        \n",
        "        self.data = data\n",
        "        self._prev = set(_children)\n",
        "        self._op = _op\n",
        "        self.grad = 0\n",
        "        self.label = label\n",
        "    \n",
        "    def __repr__(self):\n",
        "        return f\"Value(data={self.data})\"\n",
        "\n",
        "    def __add__(self, other): # a + b\n",
        "        return Value(self.data + other.data, (self, other), \"+\")\n",
        "    \n",
        "    def __mul__(self, other):\n",
        "        return Value(self.data * other.data, (self, other), \"*\")\n",
        "    \n",
        "    def __sub__(self, other):\n",
        "        return Value(self.data - other.data, (self, other), \"-\")\n",
        "    \n",
        "\n",
        "    #def backward()\n",
        "\n",
        "#L.backward()"
      ]
    },
    {
      "cell_type": "code",
      "execution_count": 3,
      "metadata": {
        "id": "QJm2ZrjIGvn5"
      },
      "outputs": [],
      "source": [
        "def get_nodes_edges(output):\n",
        "    \n",
        "    nodes, edges = set(), set()\n",
        "\n",
        "    def add_nodes_edges(node):\n",
        "        \n",
        "        if node not in nodes:\n",
        "            nodes.add(node)\n",
        "            for val in node._prev:\n",
        "                edges.add((val, node))\n",
        "                add_nodes_edges(val)\n",
        "    \n",
        "    add_nodes_edges(output)\n",
        "    \n",
        "    return nodes, edges\n",
        "\n",
        "def draw_dot(output, mode = 'svg', rank = 'LR'):\n",
        "    \n",
        "    \"\"\"\n",
        "    mode: png | svg | ...\n",
        "    rank: TB (top to bottom graph) | LR (left to right)\n",
        "    \"\"\"\n",
        "    \n",
        "    assert rank in ['LR', 'TB']\n",
        "    nodes, edges = get_nodes_edges(output)\n",
        "    dot = Digraph(format = mode, graph_attr={'rankdir': rank}) \n",
        "    \n",
        "    for node in nodes:\n",
        "        dot.node(name=str(id(node)), label = f\"{node.label} | data: {node.data:.3f} | grad: {node.grad:.3f}\", shape='record')\n",
        "        if node._op:\n",
        "            dot.node(name=str(id(node)) + node._op, label = node._op)\n",
        "            dot.edge(str(id(node)) + node._op, str(id(node)))\n",
        "    \n",
        "    for val, node in edges:\n",
        "        dot.edge(str(id(val)), str(id(node)) + node._op)\n",
        "    \n",
        "    return dot"
      ]
    },
    {
      "cell_type": "code",
      "execution_count": null,
      "metadata": {
        "id": "Ir63RhBbGvn3"
      },
      "outputs": [],
      "source": [
        "a) Get the derivates of the following functions:\n",
        "\n",
        "1. 3x^2 - 10x + 3                               -->  1. 6x - 10\n",
        "2. 4x^3 + x^2 - 23x + 50                        -->  2. 12x^2 + 2x - 23  \n",
        "3. x^4- 15x^3 + 20x^2 - 193x + 23               -->  3. 4x^3- 45x^2 + 40x - 193\n",
        "4. 10x^5 - 21x^4- x^3 + 3x^2 - 45x + 3          -->  4. 50x^4 - 84x^3- 3x^2 + 6x - 45\n",
        "5. 3x^6 + 13x^5 - x^4- 3x^3 + 12x^2 - 33x       -->  5. 18x^5 + 65x^4 - 4x^3- 9x^2 + 24x - 33"
      ]
    },
    {
      "cell_type": "code",
      "source": [],
      "metadata": {
        "id": "2nTDccyv3TwZ"
      },
      "execution_count": null,
      "outputs": []
    },
    {
      "cell_type": "code",
      "source": [],
      "metadata": {
        "id": "u-srlwwDE_uK"
      },
      "execution_count": null,
      "outputs": []
    },
    {
      "cell_type": "code",
      "execution_count": null,
      "metadata": {
        "id": "C4VuE7lNGvn4"
      },
      "outputs": [],
      "source": [
        "b) Plot and compute the gradients of the following computations:\n",
        "\n",
        "1. a = 3, b = -1, c = 4; e = a + b; d = e - c\n",
        "2. a = -2, b = 3, c = -4, d = -3; e = a - b; f = c + e; g = f - d\n",
        "3. a = -1, b = 4, c = -1, d = -2; e = a * b; f = c - e; g = f + d\n",
        "4. a = 3, b = 0, c = -2, d = 4; e = a - b; f = c * e;   g = f - d\n",
        "5. a = 5, b = 1, c = 3, d = 0; e = a * b; f = c * e;   g = f - d"
      ]
    },
    {
      "cell_type": "code",
      "source": [],
      "metadata": {
        "id": "ayBBh1tYFAIJ"
      },
      "execution_count": null,
      "outputs": []
    },
    {
      "cell_type": "code",
      "execution_count": 5,
      "metadata": {
        "colab": {
          "base_uri": "https://localhost:8080/",
          "height": 301
        },
        "id": "gtv7OteCGvn7",
        "outputId": "b3943e9f-4098-444c-b0b4-2e8bbafda203"
      },
      "outputs": [
        {
          "output_type": "execute_result",
          "data": {
            "text/plain": [
              "<graphviz.dot.Digraph at 0x7f3a4c10edc0>"
            ],
            "image/svg+xml": "<?xml version=\"1.0\" encoding=\"UTF-8\" standalone=\"no\"?>\n<!DOCTYPE svg PUBLIC \"-//W3C//DTD SVG 1.1//EN\"\n \"http://www.w3.org/Graphics/SVG/1.1/DTD/svg11.dtd\">\n<!-- Generated by graphviz version 2.43.0 (0)\n -->\n<!-- Title: %3 Pages: 1 -->\n<svg width=\"503pt\" height=\"210pt\"\n viewBox=\"0.00 0.00 503.00 210.00\" xmlns=\"http://www.w3.org/2000/svg\" xmlns:xlink=\"http://www.w3.org/1999/xlink\">\n<g id=\"graph0\" class=\"graph\" transform=\"scale(1 1) rotate(0) translate(4 206)\">\n<title>%3</title>\n<polygon fill=\"white\" stroke=\"transparent\" points=\"-4,4 -4,-206 499,-206 499,4 -4,4\"/>\n<!-- 139888361012768 -->\n<g id=\"node1\" class=\"node\">\n<title>139888361012768</title>\n<polygon fill=\"none\" stroke=\"black\" points=\"208,-132.5 208,-201.5 287,-201.5 287,-132.5 208,-132.5\"/>\n<text text-anchor=\"middle\" x=\"247.5\" y=\"-186.3\" font-family=\"Times,serif\" font-size=\"14.00\">c</text>\n<polyline fill=\"none\" stroke=\"black\" points=\"208,-178.5 287,-178.5 \"/>\n<text text-anchor=\"middle\" x=\"247.5\" y=\"-163.3\" font-family=\"Times,serif\" font-size=\"14.00\">data: 4.000</text>\n<polyline fill=\"none\" stroke=\"black\" points=\"208,-155.5 287,-155.5 \"/>\n<text text-anchor=\"middle\" x=\"247.5\" y=\"-140.3\" font-family=\"Times,serif\" font-size=\"14.00\">grad: 1.000</text>\n</g>\n<!-- 139888361012672&#45; -->\n<g id=\"node5\" class=\"node\">\n<title>139888361012672&#45;</title>\n<ellipse fill=\"none\" stroke=\"black\" cx=\"350\" cy=\"-123\" rx=\"27\" ry=\"18\"/>\n<text text-anchor=\"middle\" x=\"350\" y=\"-119.3\" font-family=\"Times,serif\" font-size=\"14.00\">&#45;</text>\n</g>\n<!-- 139888361012768&#45;&gt;139888361012672&#45; -->\n<g id=\"edge6\" class=\"edge\">\n<title>139888361012768&#45;&gt;139888361012672&#45;</title>\n<path fill=\"none\" stroke=\"black\" d=\"M287.07,-150.11C297.2,-145.68 308,-140.95 317.7,-136.71\"/>\n<polygon fill=\"black\" stroke=\"black\" points=\"319.2,-139.87 326.96,-132.65 316.4,-133.45 319.2,-139.87\"/>\n</g>\n<!-- 139888361307248 -->\n<g id=\"node2\" class=\"node\">\n<title>139888361307248</title>\n<polygon fill=\"none\" stroke=\"black\" points=\"0,-88.5 0,-157.5 82,-157.5 82,-88.5 0,-88.5\"/>\n<text text-anchor=\"middle\" x=\"41\" y=\"-142.3\" font-family=\"Times,serif\" font-size=\"14.00\">b</text>\n<polyline fill=\"none\" stroke=\"black\" points=\"0,-134.5 82,-134.5 \"/>\n<text text-anchor=\"middle\" x=\"41\" y=\"-119.3\" font-family=\"Times,serif\" font-size=\"14.00\">data: &#45;1.000</text>\n<polyline fill=\"none\" stroke=\"black\" points=\"0,-111.5 82,-111.5 \"/>\n<text text-anchor=\"middle\" x=\"41\" y=\"-96.3\" font-family=\"Times,serif\" font-size=\"14.00\">grad: 1.000</text>\n</g>\n<!-- 139888361011136+ -->\n<g id=\"node7\" class=\"node\">\n<title>139888361011136+</title>\n<ellipse fill=\"none\" stroke=\"black\" cx=\"145\" cy=\"-79\" rx=\"27\" ry=\"18\"/>\n<text text-anchor=\"middle\" x=\"145\" y=\"-75.3\" font-family=\"Times,serif\" font-size=\"14.00\">+</text>\n</g>\n<!-- 139888361307248&#45;&gt;139888361011136+ -->\n<g id=\"edge5\" class=\"edge\">\n<title>139888361307248&#45;&gt;139888361011136+</title>\n<path fill=\"none\" stroke=\"black\" d=\"M82.02,-105.74C92.23,-101.33 103.06,-96.66 112.77,-92.47\"/>\n<polygon fill=\"black\" stroke=\"black\" points=\"114.23,-95.65 122.03,-88.48 111.46,-89.23 114.23,-95.65\"/>\n</g>\n<!-- 139888361307584 -->\n<g id=\"node3\" class=\"node\">\n<title>139888361307584</title>\n<polygon fill=\"none\" stroke=\"black\" points=\"1.5,-0.5 1.5,-69.5 80.5,-69.5 80.5,-0.5 1.5,-0.5\"/>\n<text text-anchor=\"middle\" x=\"41\" y=\"-54.3\" font-family=\"Times,serif\" font-size=\"14.00\">a</text>\n<polyline fill=\"none\" stroke=\"black\" points=\"1.5,-46.5 80.5,-46.5 \"/>\n<text text-anchor=\"middle\" x=\"41\" y=\"-31.3\" font-family=\"Times,serif\" font-size=\"14.00\">data: 3.000</text>\n<polyline fill=\"none\" stroke=\"black\" points=\"1.5,-23.5 80.5,-23.5 \"/>\n<text text-anchor=\"middle\" x=\"41\" y=\"-8.3\" font-family=\"Times,serif\" font-size=\"14.00\">grad: 1.000</text>\n</g>\n<!-- 139888361307584&#45;&gt;139888361011136+ -->\n<g id=\"edge3\" class=\"edge\">\n<title>139888361307584&#45;&gt;139888361011136+</title>\n<path fill=\"none\" stroke=\"black\" d=\"M80.56,-51.63C91.16,-56.21 102.53,-61.11 112.67,-65.49\"/>\n<polygon fill=\"black\" stroke=\"black\" points=\"111.39,-68.74 121.95,-69.49 114.16,-62.32 111.39,-68.74\"/>\n</g>\n<!-- 139888361012672 -->\n<g id=\"node4\" class=\"node\">\n<title>139888361012672</title>\n<polygon fill=\"none\" stroke=\"black\" points=\"413,-88.5 413,-157.5 495,-157.5 495,-88.5 413,-88.5\"/>\n<text text-anchor=\"middle\" x=\"454\" y=\"-142.3\" font-family=\"Times,serif\" font-size=\"14.00\">d</text>\n<polyline fill=\"none\" stroke=\"black\" points=\"413,-134.5 495,-134.5 \"/>\n<text text-anchor=\"middle\" x=\"454\" y=\"-119.3\" font-family=\"Times,serif\" font-size=\"14.00\">data: &#45;2.000</text>\n<polyline fill=\"none\" stroke=\"black\" points=\"413,-111.5 495,-111.5 \"/>\n<text text-anchor=\"middle\" x=\"454\" y=\"-96.3\" font-family=\"Times,serif\" font-size=\"14.00\">grad: 1.000</text>\n</g>\n<!-- 139888361012672&#45;&#45;&gt;139888361012672 -->\n<g id=\"edge1\" class=\"edge\">\n<title>139888361012672&#45;&#45;&gt;139888361012672</title>\n<path fill=\"none\" stroke=\"black\" d=\"M377,-123C384.81,-123 393.65,-123 402.48,-123\"/>\n<polygon fill=\"black\" stroke=\"black\" points=\"402.76,-126.5 412.76,-123 402.76,-119.5 402.76,-126.5\"/>\n</g>\n<!-- 139888361011136 -->\n<g id=\"node6\" class=\"node\">\n<title>139888361011136</title>\n<polygon fill=\"none\" stroke=\"black\" points=\"208,-44.5 208,-113.5 287,-113.5 287,-44.5 208,-44.5\"/>\n<text text-anchor=\"middle\" x=\"247.5\" y=\"-98.3\" font-family=\"Times,serif\" font-size=\"14.00\">e</text>\n<polyline fill=\"none\" stroke=\"black\" points=\"208,-90.5 287,-90.5 \"/>\n<text text-anchor=\"middle\" x=\"247.5\" y=\"-75.3\" font-family=\"Times,serif\" font-size=\"14.00\">data: 2.000</text>\n<polyline fill=\"none\" stroke=\"black\" points=\"208,-67.5 287,-67.5 \"/>\n<text text-anchor=\"middle\" x=\"247.5\" y=\"-52.3\" font-family=\"Times,serif\" font-size=\"14.00\">grad: 1.000</text>\n</g>\n<!-- 139888361011136&#45;&gt;139888361012672&#45; -->\n<g id=\"edge4\" class=\"edge\">\n<title>139888361011136&#45;&gt;139888361012672&#45;</title>\n<path fill=\"none\" stroke=\"black\" d=\"M287.07,-95.89C297.2,-100.32 308,-105.05 317.7,-109.29\"/>\n<polygon fill=\"black\" stroke=\"black\" points=\"316.4,-112.55 326.96,-113.35 319.2,-106.13 316.4,-112.55\"/>\n</g>\n<!-- 139888361011136+&#45;&gt;139888361011136 -->\n<g id=\"edge2\" class=\"edge\">\n<title>139888361011136+&#45;&gt;139888361011136</title>\n<path fill=\"none\" stroke=\"black\" d=\"M172.14,-79C180,-79 188.89,-79 197.72,-79\"/>\n<polygon fill=\"black\" stroke=\"black\" points=\"197.99,-82.5 207.99,-79 197.99,-75.5 197.99,-82.5\"/>\n</g>\n</g>\n</svg>\n"
          },
          "metadata": {},
          "execution_count": 5
        }
      ],
      "source": [
        "# 1. a = 3, b = -1, c = 4; e = a + b; d = e - c\n",
        "\n",
        "a = Value(3., label = 'a'); \n",
        "b = Value(-1., label = 'b'); \n",
        "c = Value(4., label = 'c'); \n",
        "e = a + b; e.label = 'e'; \n",
        "d = e - c; d.label = 'd'; d.grad = 1\n",
        "\n",
        "e.grad = 1 * d.grad\n",
        "c.grad = 1 * d.grad\n",
        "b.grad = 1 * e.grad\n",
        "a.grad = 1 * e.grad\n",
        "\n",
        "draw_dot(d)"
      ]
    },
    {
      "cell_type": "code",
      "source": [],
      "metadata": {
        "id": "ZXaJhy38FCcK"
      },
      "execution_count": null,
      "outputs": []
    },
    {
      "cell_type": "code",
      "execution_count": 6,
      "metadata": {
        "colab": {
          "base_uri": "https://localhost:8080/",
          "height": 360
        },
        "id": "A_AOVjUxGvn8",
        "outputId": "cd5656ef-8fbc-43af-d13b-0249991fc6d6"
      },
      "outputs": [
        {
          "output_type": "execute_result",
          "data": {
            "text/plain": [
              "<graphviz.dot.Digraph at 0x7f3a4c181370>"
            ],
            "image/svg+xml": "<?xml version=\"1.0\" encoding=\"UTF-8\" standalone=\"no\"?>\n<!DOCTYPE svg PUBLIC \"-//W3C//DTD SVG 1.1//EN\"\n \"http://www.w3.org/Graphics/SVG/1.1/DTD/svg11.dtd\">\n<!-- Generated by graphviz version 2.43.0 (0)\n -->\n<!-- Title: %3 Pages: 1 -->\n<svg width=\"714pt\" height=\"254pt\"\n viewBox=\"0.00 0.00 714.00 254.00\" xmlns=\"http://www.w3.org/2000/svg\" xmlns:xlink=\"http://www.w3.org/1999/xlink\">\n<g id=\"graph0\" class=\"graph\" transform=\"scale(1 1) rotate(0) translate(4 250)\">\n<title>%3</title>\n<polygon fill=\"white\" stroke=\"transparent\" points=\"-4,4 -4,-250 710,-250 710,4 -4,4\"/>\n<!-- 139888361477168 -->\n<g id=\"node1\" class=\"node\">\n<title>139888361477168</title>\n<polygon fill=\"none\" stroke=\"black\" points=\"208,-44.5 208,-113.5 290,-113.5 290,-44.5 208,-44.5\"/>\n<text text-anchor=\"middle\" x=\"249\" y=\"-98.3\" font-family=\"Times,serif\" font-size=\"14.00\">e</text>\n<polyline fill=\"none\" stroke=\"black\" points=\"208,-90.5 290,-90.5 \"/>\n<text text-anchor=\"middle\" x=\"249\" y=\"-75.3\" font-family=\"Times,serif\" font-size=\"14.00\">data: &#45;5.000</text>\n<polyline fill=\"none\" stroke=\"black\" points=\"208,-67.5 290,-67.5 \"/>\n<text text-anchor=\"middle\" x=\"249\" y=\"-52.3\" font-family=\"Times,serif\" font-size=\"14.00\">grad: 1.000</text>\n</g>\n<!-- 139888361477216+ -->\n<g id=\"node4\" class=\"node\">\n<title>139888361477216+</title>\n<ellipse fill=\"none\" stroke=\"black\" cx=\"353\" cy=\"-123\" rx=\"27\" ry=\"18\"/>\n<text text-anchor=\"middle\" x=\"353\" y=\"-119.3\" font-family=\"Times,serif\" font-size=\"14.00\">+</text>\n</g>\n<!-- 139888361477168&#45;&gt;139888361477216+ -->\n<g id=\"edge4\" class=\"edge\">\n<title>139888361477168&#45;&gt;139888361477216+</title>\n<path fill=\"none\" stroke=\"black\" d=\"M290.02,-96.26C300.23,-100.67 311.06,-105.34 320.77,-109.53\"/>\n<polygon fill=\"black\" stroke=\"black\" points=\"319.46,-112.77 330.03,-113.52 322.23,-106.35 319.46,-112.77\"/>\n</g>\n<!-- 139888361477168&#45; -->\n<g id=\"node2\" class=\"node\">\n<title>139888361477168&#45;</title>\n<ellipse fill=\"none\" stroke=\"black\" cx=\"145\" cy=\"-79\" rx=\"27\" ry=\"18\"/>\n<text text-anchor=\"middle\" x=\"145\" y=\"-75.3\" font-family=\"Times,serif\" font-size=\"14.00\">&#45;</text>\n</g>\n<!-- 139888361477168&#45;&#45;&gt;139888361477168 -->\n<g id=\"edge1\" class=\"edge\">\n<title>139888361477168&#45;&#45;&gt;139888361477168</title>\n<path fill=\"none\" stroke=\"black\" d=\"M172,-79C179.81,-79 188.65,-79 197.48,-79\"/>\n<polygon fill=\"black\" stroke=\"black\" points=\"197.76,-82.5 207.76,-79 197.76,-75.5 197.76,-82.5\"/>\n</g>\n<!-- 139888361477216 -->\n<g id=\"node3\" class=\"node\">\n<title>139888361477216</title>\n<polygon fill=\"none\" stroke=\"black\" points=\"416,-88.5 416,-157.5 498,-157.5 498,-88.5 416,-88.5\"/>\n<text text-anchor=\"middle\" x=\"457\" y=\"-142.3\" font-family=\"Times,serif\" font-size=\"14.00\">f</text>\n<polyline fill=\"none\" stroke=\"black\" points=\"416,-134.5 498,-134.5 \"/>\n<text text-anchor=\"middle\" x=\"457\" y=\"-119.3\" font-family=\"Times,serif\" font-size=\"14.00\">data: &#45;9.000</text>\n<polyline fill=\"none\" stroke=\"black\" points=\"416,-111.5 498,-111.5 \"/>\n<text text-anchor=\"middle\" x=\"457\" y=\"-96.3\" font-family=\"Times,serif\" font-size=\"14.00\">grad: 1.000</text>\n</g>\n<!-- 139888361476448&#45; -->\n<g id=\"node7\" class=\"node\">\n<title>139888361476448&#45;</title>\n<ellipse fill=\"none\" stroke=\"black\" cx=\"561\" cy=\"-167\" rx=\"27\" ry=\"18\"/>\n<text text-anchor=\"middle\" x=\"561\" y=\"-163.3\" font-family=\"Times,serif\" font-size=\"14.00\">&#45;</text>\n</g>\n<!-- 139888361477216&#45;&gt;139888361476448&#45; -->\n<g id=\"edge5\" class=\"edge\">\n<title>139888361477216&#45;&gt;139888361476448&#45;</title>\n<path fill=\"none\" stroke=\"black\" d=\"M498.02,-140.26C508.23,-144.67 519.06,-149.34 528.77,-153.53\"/>\n<polygon fill=\"black\" stroke=\"black\" points=\"527.46,-156.77 538.03,-157.52 530.23,-150.35 527.46,-156.77\"/>\n</g>\n<!-- 139888361477216+&#45;&gt;139888361477216 -->\n<g id=\"edge2\" class=\"edge\">\n<title>139888361477216+&#45;&gt;139888361477216</title>\n<path fill=\"none\" stroke=\"black\" d=\"M380,-123C387.81,-123 396.65,-123 405.48,-123\"/>\n<polygon fill=\"black\" stroke=\"black\" points=\"405.76,-126.5 415.76,-123 405.76,-119.5 405.76,-126.5\"/>\n</g>\n<!-- 139888361479664 -->\n<g id=\"node5\" class=\"node\">\n<title>139888361479664</title>\n<polygon fill=\"none\" stroke=\"black\" points=\"416,-176.5 416,-245.5 498,-245.5 498,-176.5 416,-176.5\"/>\n<text text-anchor=\"middle\" x=\"457\" y=\"-230.3\" font-family=\"Times,serif\" font-size=\"14.00\">d</text>\n<polyline fill=\"none\" stroke=\"black\" points=\"416,-222.5 498,-222.5 \"/>\n<text text-anchor=\"middle\" x=\"457\" y=\"-207.3\" font-family=\"Times,serif\" font-size=\"14.00\">data: &#45;3.000</text>\n<polyline fill=\"none\" stroke=\"black\" points=\"416,-199.5 498,-199.5 \"/>\n<text text-anchor=\"middle\" x=\"457\" y=\"-184.3\" font-family=\"Times,serif\" font-size=\"14.00\">grad: 1.000</text>\n</g>\n<!-- 139888361479664&#45;&gt;139888361476448&#45; -->\n<g id=\"edge8\" class=\"edge\">\n<title>139888361479664&#45;&gt;139888361476448&#45;</title>\n<path fill=\"none\" stroke=\"black\" d=\"M498.02,-193.74C508.23,-189.33 519.06,-184.66 528.77,-180.47\"/>\n<polygon fill=\"black\" stroke=\"black\" points=\"530.23,-183.65 538.03,-176.48 527.46,-177.23 530.23,-183.65\"/>\n</g>\n<!-- 139888361476448 -->\n<g id=\"node6\" class=\"node\">\n<title>139888361476448</title>\n<polygon fill=\"none\" stroke=\"black\" points=\"624,-132.5 624,-201.5 706,-201.5 706,-132.5 624,-132.5\"/>\n<text text-anchor=\"middle\" x=\"665\" y=\"-186.3\" font-family=\"Times,serif\" font-size=\"14.00\">g</text>\n<polyline fill=\"none\" stroke=\"black\" points=\"624,-178.5 706,-178.5 \"/>\n<text text-anchor=\"middle\" x=\"665\" y=\"-163.3\" font-family=\"Times,serif\" font-size=\"14.00\">data: &#45;6.000</text>\n<polyline fill=\"none\" stroke=\"black\" points=\"624,-155.5 706,-155.5 \"/>\n<text text-anchor=\"middle\" x=\"665\" y=\"-140.3\" font-family=\"Times,serif\" font-size=\"14.00\">grad: 1.000</text>\n</g>\n<!-- 139888361476448&#45;&#45;&gt;139888361476448 -->\n<g id=\"edge3\" class=\"edge\">\n<title>139888361476448&#45;&#45;&gt;139888361476448</title>\n<path fill=\"none\" stroke=\"black\" d=\"M588,-167C595.81,-167 604.65,-167 613.48,-167\"/>\n<polygon fill=\"black\" stroke=\"black\" points=\"613.76,-170.5 623.76,-167 613.76,-163.5 613.76,-170.5\"/>\n</g>\n<!-- 139888361478032 -->\n<g id=\"node8\" class=\"node\">\n<title>139888361478032</title>\n<polygon fill=\"none\" stroke=\"black\" points=\"208,-132.5 208,-201.5 290,-201.5 290,-132.5 208,-132.5\"/>\n<text text-anchor=\"middle\" x=\"249\" y=\"-186.3\" font-family=\"Times,serif\" font-size=\"14.00\">c</text>\n<polyline fill=\"none\" stroke=\"black\" points=\"208,-178.5 290,-178.5 \"/>\n<text text-anchor=\"middle\" x=\"249\" y=\"-163.3\" font-family=\"Times,serif\" font-size=\"14.00\">data: &#45;4.000</text>\n<polyline fill=\"none\" stroke=\"black\" points=\"208,-155.5 290,-155.5 \"/>\n<text text-anchor=\"middle\" x=\"249\" y=\"-140.3\" font-family=\"Times,serif\" font-size=\"14.00\">grad: 1.000</text>\n</g>\n<!-- 139888361478032&#45;&gt;139888361477216+ -->\n<g id=\"edge6\" class=\"edge\">\n<title>139888361478032&#45;&gt;139888361477216+</title>\n<path fill=\"none\" stroke=\"black\" d=\"M290.02,-149.74C300.23,-145.33 311.06,-140.66 320.77,-136.47\"/>\n<polygon fill=\"black\" stroke=\"black\" points=\"322.23,-139.65 330.03,-132.48 319.46,-133.23 322.23,-139.65\"/>\n</g>\n<!-- 139888361306528 -->\n<g id=\"node9\" class=\"node\">\n<title>139888361306528</title>\n<polygon fill=\"none\" stroke=\"black\" points=\"1.5,-88.5 1.5,-157.5 80.5,-157.5 80.5,-88.5 1.5,-88.5\"/>\n<text text-anchor=\"middle\" x=\"41\" y=\"-142.3\" font-family=\"Times,serif\" font-size=\"14.00\">b</text>\n<polyline fill=\"none\" stroke=\"black\" points=\"1.5,-134.5 80.5,-134.5 \"/>\n<text text-anchor=\"middle\" x=\"41\" y=\"-119.3\" font-family=\"Times,serif\" font-size=\"14.00\">data: 3.000</text>\n<polyline fill=\"none\" stroke=\"black\" points=\"1.5,-111.5 80.5,-111.5 \"/>\n<text text-anchor=\"middle\" x=\"41\" y=\"-96.3\" font-family=\"Times,serif\" font-size=\"14.00\">grad: 1.000</text>\n</g>\n<!-- 139888361306528&#45;&gt;139888361477168&#45; -->\n<g id=\"edge9\" class=\"edge\">\n<title>139888361306528&#45;&gt;139888361477168&#45;</title>\n<path fill=\"none\" stroke=\"black\" d=\"M80.56,-106.37C91.16,-101.79 102.53,-96.89 112.67,-92.51\"/>\n<polygon fill=\"black\" stroke=\"black\" points=\"114.16,-95.68 121.95,-88.51 111.39,-89.26 114.16,-95.68\"/>\n</g>\n<!-- 139888361476592 -->\n<g id=\"node10\" class=\"node\">\n<title>139888361476592</title>\n<polygon fill=\"none\" stroke=\"black\" points=\"0,-0.5 0,-69.5 82,-69.5 82,-0.5 0,-0.5\"/>\n<text text-anchor=\"middle\" x=\"41\" y=\"-54.3\" font-family=\"Times,serif\" font-size=\"14.00\">a</text>\n<polyline fill=\"none\" stroke=\"black\" points=\"0,-46.5 82,-46.5 \"/>\n<text text-anchor=\"middle\" x=\"41\" y=\"-31.3\" font-family=\"Times,serif\" font-size=\"14.00\">data: &#45;2.000</text>\n<polyline fill=\"none\" stroke=\"black\" points=\"0,-23.5 82,-23.5 \"/>\n<text text-anchor=\"middle\" x=\"41\" y=\"-8.3\" font-family=\"Times,serif\" font-size=\"14.00\">grad: 1.000</text>\n</g>\n<!-- 139888361476592&#45;&gt;139888361477168&#45; -->\n<g id=\"edge7\" class=\"edge\">\n<title>139888361476592&#45;&gt;139888361477168&#45;</title>\n<path fill=\"none\" stroke=\"black\" d=\"M82.02,-52.26C92.23,-56.67 103.06,-61.34 112.77,-65.53\"/>\n<polygon fill=\"black\" stroke=\"black\" points=\"111.46,-68.77 122.03,-69.52 114.23,-62.35 111.46,-68.77\"/>\n</g>\n</g>\n</svg>\n"
          },
          "metadata": {},
          "execution_count": 6
        }
      ],
      "source": [
        "# 2. a = -2, b = 3, c = -4, d = -3; e = a - b; f = c + e; g = f - d\n",
        "\n",
        "a = Value(-2., label = 'a')\n",
        "b = Value(3., label = 'b') \n",
        "c = Value(-4., label = 'c') \n",
        "d = Value(-3., label = 'd')\n",
        "e = a - b; e.label = 'e'\n",
        "f = e + c; f.label = 'f' \n",
        "g = f - d; g.label = 'g'; g.grad =1\n",
        "\n",
        "f.grad = 1 * g.grad\n",
        "d.grad = 1 * g.grad\n",
        "e.grad = 1 * f.grad\n",
        "c.grad = 1 * f.grad\n",
        "b.grad = 1 * e.grad\n",
        "a.grad = 1 * e.grad\n",
        "\n",
        "draw_dot(g)"
      ]
    },
    {
      "cell_type": "code",
      "source": [],
      "metadata": {
        "id": "RB4mExBMFFKp"
      },
      "execution_count": null,
      "outputs": []
    },
    {
      "cell_type": "code",
      "execution_count": 9,
      "metadata": {
        "colab": {
          "base_uri": "https://localhost:8080/",
          "height": 301
        },
        "id": "qpnD9_byGvn8",
        "outputId": "6c2b44ea-e51c-42c6-de8b-2a47feee2b8b"
      },
      "outputs": [
        {
          "output_type": "execute_result",
          "data": {
            "text/plain": [
              "<graphviz.dot.Digraph at 0x7f3a4c10f670>"
            ],
            "image/svg+xml": "<?xml version=\"1.0\" encoding=\"UTF-8\" standalone=\"no\"?>\n<!DOCTYPE svg PUBLIC \"-//W3C//DTD SVG 1.1//EN\"\n \"http://www.w3.org/Graphics/SVG/1.1/DTD/svg11.dtd\">\n<!-- Generated by graphviz version 2.43.0 (0)\n -->\n<!-- Title: %3 Pages: 1 -->\n<svg width=\"712pt\" height=\"210pt\"\n viewBox=\"0.00 0.00 712.00 210.00\" xmlns=\"http://www.w3.org/2000/svg\" xmlns:xlink=\"http://www.w3.org/1999/xlink\">\n<g id=\"graph0\" class=\"graph\" transform=\"scale(1 1) rotate(0) translate(4 206)\">\n<title>%3</title>\n<polygon fill=\"white\" stroke=\"transparent\" points=\"-4,4 -4,-206 708,-206 708,4 -4,4\"/>\n<!-- 139888361007184 -->\n<g id=\"node1\" class=\"node\">\n<title>139888361007184</title>\n<polygon fill=\"none\" stroke=\"black\" points=\"209,-132.5 209,-201.5 291,-201.5 291,-132.5 209,-132.5\"/>\n<text text-anchor=\"middle\" x=\"250\" y=\"-186.3\" font-family=\"Times,serif\" font-size=\"14.00\">c</text>\n<polyline fill=\"none\" stroke=\"black\" points=\"209,-178.5 291,-178.5 \"/>\n<text text-anchor=\"middle\" x=\"250\" y=\"-163.3\" font-family=\"Times,serif\" font-size=\"14.00\">data: &#45;1.000</text>\n<polyline fill=\"none\" stroke=\"black\" points=\"209,-155.5 291,-155.5 \"/>\n<text text-anchor=\"middle\" x=\"250\" y=\"-140.3\" font-family=\"Times,serif\" font-size=\"14.00\">grad: 1.000</text>\n</g>\n<!-- 139888361009264&#45; -->\n<g id=\"node3\" class=\"node\">\n<title>139888361009264&#45;</title>\n<ellipse fill=\"none\" stroke=\"black\" cx=\"354\" cy=\"-123\" rx=\"27\" ry=\"18\"/>\n<text text-anchor=\"middle\" x=\"354\" y=\"-119.3\" font-family=\"Times,serif\" font-size=\"14.00\">&#45;</text>\n</g>\n<!-- 139888361007184&#45;&gt;139888361009264&#45; -->\n<g id=\"edge9\" class=\"edge\">\n<title>139888361007184&#45;&gt;139888361009264&#45;</title>\n<path fill=\"none\" stroke=\"black\" d=\"M291.02,-149.74C301.23,-145.33 312.06,-140.66 321.77,-136.47\"/>\n<polygon fill=\"black\" stroke=\"black\" points=\"323.23,-139.65 331.03,-132.48 320.46,-133.23 323.23,-139.65\"/>\n</g>\n<!-- 139888361009264 -->\n<g id=\"node2\" class=\"node\">\n<title>139888361009264</title>\n<polygon fill=\"none\" stroke=\"black\" points=\"418.5,-88.5 418.5,-157.5 497.5,-157.5 497.5,-88.5 418.5,-88.5\"/>\n<text text-anchor=\"middle\" x=\"458\" y=\"-142.3\" font-family=\"Times,serif\" font-size=\"14.00\">f</text>\n<polyline fill=\"none\" stroke=\"black\" points=\"418.5,-134.5 497.5,-134.5 \"/>\n<text text-anchor=\"middle\" x=\"458\" y=\"-119.3\" font-family=\"Times,serif\" font-size=\"14.00\">data: 3.000</text>\n<polyline fill=\"none\" stroke=\"black\" points=\"418.5,-111.5 497.5,-111.5 \"/>\n<text text-anchor=\"middle\" x=\"458\" y=\"-96.3\" font-family=\"Times,serif\" font-size=\"14.00\">grad: 1.000</text>\n</g>\n<!-- 139888361012384+ -->\n<g id=\"node5\" class=\"node\">\n<title>139888361012384+</title>\n<ellipse fill=\"none\" stroke=\"black\" cx=\"562\" cy=\"-79\" rx=\"27\" ry=\"18\"/>\n<text text-anchor=\"middle\" x=\"562\" y=\"-75.3\" font-family=\"Times,serif\" font-size=\"14.00\">+</text>\n</g>\n<!-- 139888361009264&#45;&gt;139888361012384+ -->\n<g id=\"edge5\" class=\"edge\">\n<title>139888361009264&#45;&gt;139888361012384+</title>\n<path fill=\"none\" stroke=\"black\" d=\"M497.56,-106.37C508.16,-101.79 519.53,-96.89 529.67,-92.51\"/>\n<polygon fill=\"black\" stroke=\"black\" points=\"531.16,-95.68 538.95,-88.51 528.39,-89.26 531.16,-95.68\"/>\n</g>\n<!-- 139888361009264&#45;&#45;&gt;139888361009264 -->\n<g id=\"edge1\" class=\"edge\">\n<title>139888361009264&#45;&#45;&gt;139888361009264</title>\n<path fill=\"none\" stroke=\"black\" d=\"M381,-123C389.33,-123 398.83,-123 408.23,-123\"/>\n<polygon fill=\"black\" stroke=\"black\" points=\"408.33,-126.5 418.33,-123 408.33,-119.5 408.33,-126.5\"/>\n</g>\n<!-- 139888361012384 -->\n<g id=\"node4\" class=\"node\">\n<title>139888361012384</title>\n<polygon fill=\"none\" stroke=\"black\" points=\"625,-44.5 625,-113.5 704,-113.5 704,-44.5 625,-44.5\"/>\n<text text-anchor=\"middle\" x=\"664.5\" y=\"-98.3\" font-family=\"Times,serif\" font-size=\"14.00\">g</text>\n<polyline fill=\"none\" stroke=\"black\" points=\"625,-90.5 704,-90.5 \"/>\n<text text-anchor=\"middle\" x=\"664.5\" y=\"-75.3\" font-family=\"Times,serif\" font-size=\"14.00\">data: 1.000</text>\n<polyline fill=\"none\" stroke=\"black\" points=\"625,-67.5 704,-67.5 \"/>\n<text text-anchor=\"middle\" x=\"664.5\" y=\"-52.3\" font-family=\"Times,serif\" font-size=\"14.00\">grad: 1.000</text>\n</g>\n<!-- 139888361012384+&#45;&gt;139888361012384 -->\n<g id=\"edge2\" class=\"edge\">\n<title>139888361012384+&#45;&gt;139888361012384</title>\n<path fill=\"none\" stroke=\"black\" d=\"M589.14,-79C597,-79 605.89,-79 614.72,-79\"/>\n<polygon fill=\"black\" stroke=\"black\" points=\"614.99,-82.5 624.99,-79 614.99,-75.5 614.99,-82.5\"/>\n</g>\n<!-- 139888361008288 -->\n<g id=\"node6\" class=\"node\">\n<title>139888361008288</title>\n<polygon fill=\"none\" stroke=\"black\" points=\"0.5,-88.5 0.5,-157.5 82.5,-157.5 82.5,-88.5 0.5,-88.5\"/>\n<text text-anchor=\"middle\" x=\"41.5\" y=\"-142.3\" font-family=\"Times,serif\" font-size=\"14.00\">a</text>\n<polyline fill=\"none\" stroke=\"black\" points=\"0.5,-134.5 82.5,-134.5 \"/>\n<text text-anchor=\"middle\" x=\"41.5\" y=\"-119.3\" font-family=\"Times,serif\" font-size=\"14.00\">data: &#45;1.000</text>\n<polyline fill=\"none\" stroke=\"black\" points=\"0.5,-111.5 82.5,-111.5 \"/>\n<text text-anchor=\"middle\" x=\"41.5\" y=\"-96.3\" font-family=\"Times,serif\" font-size=\"14.00\">grad: 4.000</text>\n</g>\n<!-- 139888361008384* -->\n<g id=\"node9\" class=\"node\">\n<title>139888361008384*</title>\n<ellipse fill=\"none\" stroke=\"black\" cx=\"146\" cy=\"-79\" rx=\"27\" ry=\"18\"/>\n<text text-anchor=\"middle\" x=\"146\" y=\"-75.3\" font-family=\"Times,serif\" font-size=\"14.00\">*</text>\n</g>\n<!-- 139888361008288&#45;&gt;139888361008384* -->\n<g id=\"edge6\" class=\"edge\">\n<title>139888361008288&#45;&gt;139888361008384*</title>\n<path fill=\"none\" stroke=\"black\" d=\"M82.72,-105.74C92.98,-101.33 103.86,-96.66 113.61,-92.47\"/>\n<polygon fill=\"black\" stroke=\"black\" points=\"115.11,-95.64 122.92,-88.48 112.35,-89.21 115.11,-95.64\"/>\n</g>\n<!-- 139888361005264 -->\n<g id=\"node7\" class=\"node\">\n<title>139888361005264</title>\n<polygon fill=\"none\" stroke=\"black\" points=\"417,-0.5 417,-69.5 499,-69.5 499,-0.5 417,-0.5\"/>\n<text text-anchor=\"middle\" x=\"458\" y=\"-54.3\" font-family=\"Times,serif\" font-size=\"14.00\">d</text>\n<polyline fill=\"none\" stroke=\"black\" points=\"417,-46.5 499,-46.5 \"/>\n<text text-anchor=\"middle\" x=\"458\" y=\"-31.3\" font-family=\"Times,serif\" font-size=\"14.00\">data: &#45;2.000</text>\n<polyline fill=\"none\" stroke=\"black\" points=\"417,-23.5 499,-23.5 \"/>\n<text text-anchor=\"middle\" x=\"458\" y=\"-8.3\" font-family=\"Times,serif\" font-size=\"14.00\">grad: 1.000</text>\n</g>\n<!-- 139888361005264&#45;&gt;139888361012384+ -->\n<g id=\"edge8\" class=\"edge\">\n<title>139888361005264&#45;&gt;139888361012384+</title>\n<path fill=\"none\" stroke=\"black\" d=\"M499.02,-52.26C509.23,-56.67 520.06,-61.34 529.77,-65.53\"/>\n<polygon fill=\"black\" stroke=\"black\" points=\"528.46,-68.77 539.03,-69.52 531.23,-62.35 528.46,-68.77\"/>\n</g>\n<!-- 139888361008384 -->\n<g id=\"node8\" class=\"node\">\n<title>139888361008384</title>\n<polygon fill=\"none\" stroke=\"black\" points=\"209,-44.5 209,-113.5 291,-113.5 291,-44.5 209,-44.5\"/>\n<text text-anchor=\"middle\" x=\"250\" y=\"-98.3\" font-family=\"Times,serif\" font-size=\"14.00\">e</text>\n<polyline fill=\"none\" stroke=\"black\" points=\"209,-90.5 291,-90.5 \"/>\n<text text-anchor=\"middle\" x=\"250\" y=\"-75.3\" font-family=\"Times,serif\" font-size=\"14.00\">data: &#45;4.000</text>\n<polyline fill=\"none\" stroke=\"black\" points=\"209,-67.5 291,-67.5 \"/>\n<text text-anchor=\"middle\" x=\"250\" y=\"-52.3\" font-family=\"Times,serif\" font-size=\"14.00\">grad: 1.000</text>\n</g>\n<!-- 139888361008384&#45;&gt;139888361009264&#45; -->\n<g id=\"edge4\" class=\"edge\">\n<title>139888361008384&#45;&gt;139888361009264&#45;</title>\n<path fill=\"none\" stroke=\"black\" d=\"M291.02,-96.26C301.23,-100.67 312.06,-105.34 321.77,-109.53\"/>\n<polygon fill=\"black\" stroke=\"black\" points=\"320.46,-112.77 331.03,-113.52 323.23,-106.35 320.46,-112.77\"/>\n</g>\n<!-- 139888361008384*&#45;&gt;139888361008384 -->\n<g id=\"edge3\" class=\"edge\">\n<title>139888361008384*&#45;&gt;139888361008384</title>\n<path fill=\"none\" stroke=\"black\" d=\"M173,-79C180.81,-79 189.65,-79 198.48,-79\"/>\n<polygon fill=\"black\" stroke=\"black\" points=\"198.76,-82.5 208.76,-79 198.76,-75.5 198.76,-82.5\"/>\n</g>\n<!-- 139888361005312 -->\n<g id=\"node10\" class=\"node\">\n<title>139888361005312</title>\n<polygon fill=\"none\" stroke=\"black\" points=\"0,-0.5 0,-69.5 83,-69.5 83,-0.5 0,-0.5\"/>\n<text text-anchor=\"middle\" x=\"41.5\" y=\"-54.3\" font-family=\"Times,serif\" font-size=\"14.00\">b</text>\n<polyline fill=\"none\" stroke=\"black\" points=\"0,-46.5 83,-46.5 \"/>\n<text text-anchor=\"middle\" x=\"41.5\" y=\"-31.3\" font-family=\"Times,serif\" font-size=\"14.00\">data: 4.000</text>\n<polyline fill=\"none\" stroke=\"black\" points=\"0,-23.5 83,-23.5 \"/>\n<text text-anchor=\"middle\" x=\"41.5\" y=\"-8.3\" font-family=\"Times,serif\" font-size=\"14.00\">grad: &#45;1.000</text>\n</g>\n<!-- 139888361005312&#45;&gt;139888361008384* -->\n<g id=\"edge7\" class=\"edge\">\n<title>139888361005312&#45;&gt;139888361008384*</title>\n<path fill=\"none\" stroke=\"black\" d=\"M83.01,-52.39C93.17,-56.75 103.91,-61.36 113.55,-65.5\"/>\n<polygon fill=\"black\" stroke=\"black\" points=\"112.19,-68.73 122.76,-69.45 114.95,-62.29 112.19,-68.73\"/>\n</g>\n</g>\n</svg>\n"
          },
          "metadata": {},
          "execution_count": 9
        }
      ],
      "source": [
        "# 3. a = -1, b = 4, c = -1, d = -2; e = a * b; f = c - e; g = f + d\n",
        "\n",
        "a = Value(-1., label = 'a')\n",
        "b = Value(4., label = 'b')\n",
        "c = Value(-1., label = 'c')\n",
        "d = Value(-2., label = 'd')\n",
        "e = a * b; e.label = 'e'\n",
        "f = c - e; f.label = 'f'\n",
        "g = f + d; g.label = 'g'; g.grad =1\n",
        "\n",
        "f.grad = 1 * g.grad\n",
        "d.grad = 1 * g.grad\n",
        "e.grad = 1 * f.grad\n",
        "c.grad = 1 * f.grad\n",
        "b.grad = a.data * e.grad\n",
        "a.grad = b.data * e.grad\n",
        "\n",
        "draw_dot(g)"
      ]
    },
    {
      "cell_type": "code",
      "source": [],
      "metadata": {
        "id": "7BxL-1cgFIpp"
      },
      "execution_count": null,
      "outputs": []
    },
    {
      "cell_type": "code",
      "execution_count": 10,
      "metadata": {
        "colab": {
          "base_uri": "https://localhost:8080/",
          "height": 360
        },
        "id": "KUdBHRBPGvn9",
        "outputId": "014945dc-48f4-43c2-9db8-f5dcbb6b9200"
      },
      "outputs": [
        {
          "output_type": "execute_result",
          "data": {
            "text/plain": [
              "<graphviz.dot.Digraph at 0x7f3a4c1819a0>"
            ],
            "image/svg+xml": "<?xml version=\"1.0\" encoding=\"UTF-8\" standalone=\"no\"?>\n<!DOCTYPE svg PUBLIC \"-//W3C//DTD SVG 1.1//EN\"\n \"http://www.w3.org/Graphics/SVG/1.1/DTD/svg11.dtd\">\n<!-- Generated by graphviz version 2.43.0 (0)\n -->\n<!-- Title: %3 Pages: 1 -->\n<svg width=\"723pt\" height=\"254pt\"\n viewBox=\"0.00 0.00 723.00 254.00\" xmlns=\"http://www.w3.org/2000/svg\" xmlns:xlink=\"http://www.w3.org/1999/xlink\">\n<g id=\"graph0\" class=\"graph\" transform=\"scale(1 1) rotate(0) translate(4 250)\">\n<title>%3</title>\n<polygon fill=\"white\" stroke=\"transparent\" points=\"-4,4 -4,-250 719,-250 719,4 -4,4\"/>\n<!-- 139888097453056 -->\n<g id=\"node1\" class=\"node\">\n<title>139888097453056</title>\n<polygon fill=\"none\" stroke=\"black\" points=\"209,-44.5 209,-113.5 292,-113.5 292,-44.5 209,-44.5\"/>\n<text text-anchor=\"middle\" x=\"250.5\" y=\"-98.3\" font-family=\"Times,serif\" font-size=\"14.00\">e</text>\n<polyline fill=\"none\" stroke=\"black\" points=\"209,-90.5 292,-90.5 \"/>\n<text text-anchor=\"middle\" x=\"250.5\" y=\"-75.3\" font-family=\"Times,serif\" font-size=\"14.00\">data: 3.000</text>\n<polyline fill=\"none\" stroke=\"black\" points=\"209,-67.5 292,-67.5 \"/>\n<text text-anchor=\"middle\" x=\"250.5\" y=\"-52.3\" font-family=\"Times,serif\" font-size=\"14.00\">grad: &#45;2.000</text>\n</g>\n<!-- 139888361478128* -->\n<g id=\"node10\" class=\"node\">\n<title>139888361478128*</title>\n<ellipse fill=\"none\" stroke=\"black\" cx=\"355\" cy=\"-123\" rx=\"27\" ry=\"18\"/>\n<text text-anchor=\"middle\" x=\"355\" y=\"-119.3\" font-family=\"Times,serif\" font-size=\"14.00\">*</text>\n</g>\n<!-- 139888097453056&#45;&gt;139888361478128* -->\n<g id=\"edge4\" class=\"edge\">\n<title>139888097453056&#45;&gt;139888361478128*</title>\n<path fill=\"none\" stroke=\"black\" d=\"M292.01,-96.39C302.17,-100.75 312.91,-105.36 322.55,-109.5\"/>\n<polygon fill=\"black\" stroke=\"black\" points=\"321.19,-112.73 331.76,-113.45 323.95,-106.29 321.19,-112.73\"/>\n</g>\n<!-- 139888097453056&#45; -->\n<g id=\"node2\" class=\"node\">\n<title>139888097453056&#45;</title>\n<ellipse fill=\"none\" stroke=\"black\" cx=\"146\" cy=\"-79\" rx=\"27\" ry=\"18\"/>\n<text text-anchor=\"middle\" x=\"146\" y=\"-75.3\" font-family=\"Times,serif\" font-size=\"14.00\">&#45;</text>\n</g>\n<!-- 139888097453056&#45;&#45;&gt;139888097453056 -->\n<g id=\"edge1\" class=\"edge\">\n<title>139888097453056&#45;&#45;&gt;139888097453056</title>\n<path fill=\"none\" stroke=\"black\" d=\"M173.13,-79C180.89,-79 189.67,-79 198.44,-79\"/>\n<polygon fill=\"black\" stroke=\"black\" points=\"198.67,-82.5 208.67,-79 198.67,-75.5 198.67,-82.5\"/>\n</g>\n<!-- 139888097452672 -->\n<g id=\"node3\" class=\"node\">\n<title>139888097452672</title>\n<polygon fill=\"none\" stroke=\"black\" points=\"0,-88.5 0,-157.5 83,-157.5 83,-88.5 0,-88.5\"/>\n<text text-anchor=\"middle\" x=\"41.5\" y=\"-142.3\" font-family=\"Times,serif\" font-size=\"14.00\">b</text>\n<polyline fill=\"none\" stroke=\"black\" points=\"0,-134.5 83,-134.5 \"/>\n<text text-anchor=\"middle\" x=\"41.5\" y=\"-119.3\" font-family=\"Times,serif\" font-size=\"14.00\">data: 0.000</text>\n<polyline fill=\"none\" stroke=\"black\" points=\"0,-111.5 83,-111.5 \"/>\n<text text-anchor=\"middle\" x=\"41.5\" y=\"-96.3\" font-family=\"Times,serif\" font-size=\"14.00\">grad: &#45;2.000</text>\n</g>\n<!-- 139888097452672&#45;&gt;139888097453056&#45; -->\n<g id=\"edge7\" class=\"edge\">\n<title>139888097452672&#45;&gt;139888097453056&#45;</title>\n<path fill=\"none\" stroke=\"black\" d=\"M83.01,-105.61C93.17,-101.25 103.91,-96.64 113.55,-92.5\"/>\n<polygon fill=\"black\" stroke=\"black\" points=\"114.95,-95.71 122.76,-88.55 112.19,-89.27 114.95,-95.71\"/>\n</g>\n<!-- 139888097452768 -->\n<g id=\"node4\" class=\"node\">\n<title>139888097452768</title>\n<polygon fill=\"none\" stroke=\"black\" points=\"0,-0.5 0,-69.5 83,-69.5 83,-0.5 0,-0.5\"/>\n<text text-anchor=\"middle\" x=\"41.5\" y=\"-54.3\" font-family=\"Times,serif\" font-size=\"14.00\">a</text>\n<polyline fill=\"none\" stroke=\"black\" points=\"0,-46.5 83,-46.5 \"/>\n<text text-anchor=\"middle\" x=\"41.5\" y=\"-31.3\" font-family=\"Times,serif\" font-size=\"14.00\">data: 3.000</text>\n<polyline fill=\"none\" stroke=\"black\" points=\"0,-23.5 83,-23.5 \"/>\n<text text-anchor=\"middle\" x=\"41.5\" y=\"-8.3\" font-family=\"Times,serif\" font-size=\"14.00\">grad: &#45;2.000</text>\n</g>\n<!-- 139888097452768&#45;&gt;139888097453056&#45; -->\n<g id=\"edge9\" class=\"edge\">\n<title>139888097452768&#45;&gt;139888097453056&#45;</title>\n<path fill=\"none\" stroke=\"black\" d=\"M83.01,-52.39C93.17,-56.75 103.91,-61.36 113.55,-65.5\"/>\n<polygon fill=\"black\" stroke=\"black\" points=\"112.19,-68.73 122.76,-69.45 114.95,-62.29 112.19,-68.73\"/>\n</g>\n<!-- 139888361477888 -->\n<g id=\"node5\" class=\"node\">\n<title>139888361477888</title>\n<polygon fill=\"none\" stroke=\"black\" points=\"626,-132.5 626,-201.5 715,-201.5 715,-132.5 626,-132.5\"/>\n<text text-anchor=\"middle\" x=\"670.5\" y=\"-186.3\" font-family=\"Times,serif\" font-size=\"14.00\">g</text>\n<polyline fill=\"none\" stroke=\"black\" points=\"626,-178.5 715,-178.5 \"/>\n<text text-anchor=\"middle\" x=\"670.5\" y=\"-163.3\" font-family=\"Times,serif\" font-size=\"14.00\">data: &#45;10.000</text>\n<polyline fill=\"none\" stroke=\"black\" points=\"626,-155.5 715,-155.5 \"/>\n<text text-anchor=\"middle\" x=\"670.5\" y=\"-140.3\" font-family=\"Times,serif\" font-size=\"14.00\">grad: 1.000</text>\n</g>\n<!-- 139888361477888&#45; -->\n<g id=\"node6\" class=\"node\">\n<title>139888361477888&#45;</title>\n<ellipse fill=\"none\" stroke=\"black\" cx=\"563\" cy=\"-167\" rx=\"27\" ry=\"18\"/>\n<text text-anchor=\"middle\" x=\"563\" y=\"-163.3\" font-family=\"Times,serif\" font-size=\"14.00\">&#45;</text>\n</g>\n<!-- 139888361477888&#45;&#45;&gt;139888361477888 -->\n<g id=\"edge2\" class=\"edge\">\n<title>139888361477888&#45;&#45;&gt;139888361477888</title>\n<path fill=\"none\" stroke=\"black\" d=\"M590.08,-167C597.88,-167 606.74,-167 615.64,-167\"/>\n<polygon fill=\"black\" stroke=\"black\" points=\"615.66,-170.5 625.66,-167 615.66,-163.5 615.66,-170.5\"/>\n</g>\n<!-- 139888097452864 -->\n<g id=\"node7\" class=\"node\">\n<title>139888097452864</title>\n<polygon fill=\"none\" stroke=\"black\" points=\"209.5,-132.5 209.5,-201.5 291.5,-201.5 291.5,-132.5 209.5,-132.5\"/>\n<text text-anchor=\"middle\" x=\"250.5\" y=\"-186.3\" font-family=\"Times,serif\" font-size=\"14.00\">c</text>\n<polyline fill=\"none\" stroke=\"black\" points=\"209.5,-178.5 291.5,-178.5 \"/>\n<text text-anchor=\"middle\" x=\"250.5\" y=\"-163.3\" font-family=\"Times,serif\" font-size=\"14.00\">data: &#45;2.000</text>\n<polyline fill=\"none\" stroke=\"black\" points=\"209.5,-155.5 291.5,-155.5 \"/>\n<text text-anchor=\"middle\" x=\"250.5\" y=\"-140.3\" font-family=\"Times,serif\" font-size=\"14.00\">grad: 3.000</text>\n</g>\n<!-- 139888097452864&#45;&gt;139888361478128* -->\n<g id=\"edge5\" class=\"edge\">\n<title>139888097452864&#45;&gt;139888361478128*</title>\n<path fill=\"none\" stroke=\"black\" d=\"M291.72,-149.74C301.98,-145.33 312.86,-140.66 322.61,-136.47\"/>\n<polygon fill=\"black\" stroke=\"black\" points=\"324.11,-139.64 331.92,-132.48 321.35,-133.21 324.11,-139.64\"/>\n</g>\n<!-- 139888097452960 -->\n<g id=\"node8\" class=\"node\">\n<title>139888097452960</title>\n<polygon fill=\"none\" stroke=\"black\" points=\"419.5,-176.5 419.5,-245.5 498.5,-245.5 498.5,-176.5 419.5,-176.5\"/>\n<text text-anchor=\"middle\" x=\"459\" y=\"-230.3\" font-family=\"Times,serif\" font-size=\"14.00\">d</text>\n<polyline fill=\"none\" stroke=\"black\" points=\"419.5,-222.5 498.5,-222.5 \"/>\n<text text-anchor=\"middle\" x=\"459\" y=\"-207.3\" font-family=\"Times,serif\" font-size=\"14.00\">data: 4.000</text>\n<polyline fill=\"none\" stroke=\"black\" points=\"419.5,-199.5 498.5,-199.5 \"/>\n<text text-anchor=\"middle\" x=\"459\" y=\"-184.3\" font-family=\"Times,serif\" font-size=\"14.00\">grad: 1.000</text>\n</g>\n<!-- 139888097452960&#45;&gt;139888361477888&#45; -->\n<g id=\"edge6\" class=\"edge\">\n<title>139888097452960&#45;&gt;139888361477888&#45;</title>\n<path fill=\"none\" stroke=\"black\" d=\"M498.56,-194.37C509.16,-189.79 520.53,-184.89 530.67,-180.51\"/>\n<polygon fill=\"black\" stroke=\"black\" points=\"532.16,-183.68 539.95,-176.51 529.39,-177.26 532.16,-183.68\"/>\n</g>\n<!-- 139888361478128 -->\n<g id=\"node9\" class=\"node\">\n<title>139888361478128</title>\n<polygon fill=\"none\" stroke=\"black\" points=\"418,-88.5 418,-157.5 500,-157.5 500,-88.5 418,-88.5\"/>\n<text text-anchor=\"middle\" x=\"459\" y=\"-142.3\" font-family=\"Times,serif\" font-size=\"14.00\">f</text>\n<polyline fill=\"none\" stroke=\"black\" points=\"418,-134.5 500,-134.5 \"/>\n<text text-anchor=\"middle\" x=\"459\" y=\"-119.3\" font-family=\"Times,serif\" font-size=\"14.00\">data: &#45;6.000</text>\n<polyline fill=\"none\" stroke=\"black\" points=\"418,-111.5 500,-111.5 \"/>\n<text text-anchor=\"middle\" x=\"459\" y=\"-96.3\" font-family=\"Times,serif\" font-size=\"14.00\">grad: 1.000</text>\n</g>\n<!-- 139888361478128&#45;&gt;139888361477888&#45; -->\n<g id=\"edge8\" class=\"edge\">\n<title>139888361478128&#45;&gt;139888361477888&#45;</title>\n<path fill=\"none\" stroke=\"black\" d=\"M500.02,-140.26C510.23,-144.67 521.06,-149.34 530.77,-153.53\"/>\n<polygon fill=\"black\" stroke=\"black\" points=\"529.46,-156.77 540.03,-157.52 532.23,-150.35 529.46,-156.77\"/>\n</g>\n<!-- 139888361478128*&#45;&gt;139888361478128 -->\n<g id=\"edge3\" class=\"edge\">\n<title>139888361478128*&#45;&gt;139888361478128</title>\n<path fill=\"none\" stroke=\"black\" d=\"M382,-123C389.81,-123 398.65,-123 407.48,-123\"/>\n<polygon fill=\"black\" stroke=\"black\" points=\"407.76,-126.5 417.76,-123 407.76,-119.5 407.76,-126.5\"/>\n</g>\n</g>\n</svg>\n"
          },
          "metadata": {},
          "execution_count": 10
        }
      ],
      "source": [
        "# 4. a = 3, b = 0, c = -2, d = 4; e = a - b; f = c * e;   g = f - d\n",
        "\n",
        "a = Value(3., label = 'a')\n",
        "b = Value(0., label = 'b')\n",
        "c = Value(-2., label = 'c') \n",
        "d = Value(4., label = 'd') \n",
        "e = a - b; e.label = 'e'\n",
        "f = e * c; f.label = 'f' \n",
        "g = f - d; g.label = 'g'; g.grad =1\n",
        "\n",
        "f.grad = 1 * g.grad\n",
        "d.grad = 1 * g.grad\n",
        "e.grad = c.data * f.grad\n",
        "c.grad = e.data * f.grad\n",
        "b.grad = 1 * e.grad\n",
        "a.grad = 1 * e.grad\n",
        "\n",
        "draw_dot(g)"
      ]
    },
    {
      "cell_type": "code",
      "source": [],
      "metadata": {
        "id": "tsNC2Nn1FJ7p"
      },
      "execution_count": null,
      "outputs": []
    },
    {
      "cell_type": "code",
      "execution_count": 11,
      "metadata": {
        "colab": {
          "base_uri": "https://localhost:8080/",
          "height": 360
        },
        "id": "bmdkZye8Gvn9",
        "outputId": "fe432f56-bb22-47ff-8e93-ca6805d381d8"
      },
      "outputs": [
        {
          "output_type": "execute_result",
          "data": {
            "text/plain": [
              "<graphviz.dot.Digraph at 0x7f3a4c10f430>"
            ],
            "image/svg+xml": "<?xml version=\"1.0\" encoding=\"UTF-8\" standalone=\"no\"?>\n<!DOCTYPE svg PUBLIC \"-//W3C//DTD SVG 1.1//EN\"\n \"http://www.w3.org/Graphics/SVG/1.1/DTD/svg11.dtd\">\n<!-- Generated by graphviz version 2.43.0 (0)\n -->\n<!-- Title: %3 Pages: 1 -->\n<svg width=\"719pt\" height=\"254pt\"\n viewBox=\"0.00 0.00 719.00 254.00\" xmlns=\"http://www.w3.org/2000/svg\" xmlns:xlink=\"http://www.w3.org/1999/xlink\">\n<g id=\"graph0\" class=\"graph\" transform=\"scale(1 1) rotate(0) translate(4 250)\">\n<title>%3</title>\n<polygon fill=\"white\" stroke=\"transparent\" points=\"-4,4 -4,-250 715,-250 715,4 -4,4\"/>\n<!-- 139888361009696 -->\n<g id=\"node1\" class=\"node\">\n<title>139888361009696</title>\n<polygon fill=\"none\" stroke=\"black\" points=\"212,-44.5 212,-113.5 291,-113.5 291,-44.5 212,-44.5\"/>\n<text text-anchor=\"middle\" x=\"251.5\" y=\"-98.3\" font-family=\"Times,serif\" font-size=\"14.00\">e</text>\n<polyline fill=\"none\" stroke=\"black\" points=\"212,-90.5 291,-90.5 \"/>\n<text text-anchor=\"middle\" x=\"251.5\" y=\"-75.3\" font-family=\"Times,serif\" font-size=\"14.00\">data: 5.000</text>\n<polyline fill=\"none\" stroke=\"black\" points=\"212,-67.5 291,-67.5 \"/>\n<text text-anchor=\"middle\" x=\"251.5\" y=\"-52.3\" font-family=\"Times,serif\" font-size=\"14.00\">grad: 3.000</text>\n</g>\n<!-- 139888361012480* -->\n<g id=\"node8\" class=\"node\">\n<title>139888361012480*</title>\n<ellipse fill=\"none\" stroke=\"black\" cx=\"354\" cy=\"-123\" rx=\"27\" ry=\"18\"/>\n<text text-anchor=\"middle\" x=\"354\" y=\"-119.3\" font-family=\"Times,serif\" font-size=\"14.00\">*</text>\n</g>\n<!-- 139888361009696&#45;&gt;139888361012480* -->\n<g id=\"edge7\" class=\"edge\">\n<title>139888361009696&#45;&gt;139888361012480*</title>\n<path fill=\"none\" stroke=\"black\" d=\"M291.07,-95.89C301.2,-100.32 312,-105.05 321.7,-109.29\"/>\n<polygon fill=\"black\" stroke=\"black\" points=\"320.4,-112.55 330.96,-113.35 323.2,-106.13 320.4,-112.55\"/>\n</g>\n<!-- 139888361009696* -->\n<g id=\"node2\" class=\"node\">\n<title>139888361009696*</title>\n<ellipse fill=\"none\" stroke=\"black\" cx=\"149\" cy=\"-79\" rx=\"27\" ry=\"18\"/>\n<text text-anchor=\"middle\" x=\"149\" y=\"-75.3\" font-family=\"Times,serif\" font-size=\"14.00\">*</text>\n</g>\n<!-- 139888361009696*&#45;&gt;139888361009696 -->\n<g id=\"edge1\" class=\"edge\">\n<title>139888361009696*&#45;&gt;139888361009696</title>\n<path fill=\"none\" stroke=\"black\" d=\"M176.14,-79C184,-79 192.89,-79 201.72,-79\"/>\n<polygon fill=\"black\" stroke=\"black\" points=\"201.99,-82.5 211.99,-79 201.99,-75.5 201.99,-82.5\"/>\n</g>\n<!-- 139888361013152 -->\n<g id=\"node3\" class=\"node\">\n<title>139888361013152</title>\n<polygon fill=\"none\" stroke=\"black\" points=\"212,-132.5 212,-201.5 291,-201.5 291,-132.5 212,-132.5\"/>\n<text text-anchor=\"middle\" x=\"251.5\" y=\"-186.3\" font-family=\"Times,serif\" font-size=\"14.00\">c</text>\n<polyline fill=\"none\" stroke=\"black\" points=\"212,-178.5 291,-178.5 \"/>\n<text text-anchor=\"middle\" x=\"251.5\" y=\"-163.3\" font-family=\"Times,serif\" font-size=\"14.00\">data: 3.000</text>\n<polyline fill=\"none\" stroke=\"black\" points=\"212,-155.5 291,-155.5 \"/>\n<text text-anchor=\"middle\" x=\"251.5\" y=\"-140.3\" font-family=\"Times,serif\" font-size=\"14.00\">grad: 5.000</text>\n</g>\n<!-- 139888361013152&#45;&gt;139888361012480* -->\n<g id=\"edge9\" class=\"edge\">\n<title>139888361013152&#45;&gt;139888361012480*</title>\n<path fill=\"none\" stroke=\"black\" d=\"M291.07,-150.11C301.2,-145.68 312,-140.95 321.7,-136.71\"/>\n<polygon fill=\"black\" stroke=\"black\" points=\"323.2,-139.87 330.96,-132.65 320.4,-133.45 323.2,-139.87\"/>\n</g>\n<!-- 139888361011328 -->\n<g id=\"node4\" class=\"node\">\n<title>139888361011328</title>\n<polygon fill=\"none\" stroke=\"black\" points=\"419.5,-176.5 419.5,-245.5 498.5,-245.5 498.5,-176.5 419.5,-176.5\"/>\n<text text-anchor=\"middle\" x=\"459\" y=\"-230.3\" font-family=\"Times,serif\" font-size=\"14.00\">d</text>\n<polyline fill=\"none\" stroke=\"black\" points=\"419.5,-222.5 498.5,-222.5 \"/>\n<text text-anchor=\"middle\" x=\"459\" y=\"-207.3\" font-family=\"Times,serif\" font-size=\"14.00\">data: 0.000</text>\n<polyline fill=\"none\" stroke=\"black\" points=\"419.5,-199.5 498.5,-199.5 \"/>\n<text text-anchor=\"middle\" x=\"459\" y=\"-184.3\" font-family=\"Times,serif\" font-size=\"14.00\">grad: 1.000</text>\n</g>\n<!-- 139888361010896&#45; -->\n<g id=\"node6\" class=\"node\">\n<title>139888361010896&#45;</title>\n<ellipse fill=\"none\" stroke=\"black\" cx=\"564\" cy=\"-167\" rx=\"27\" ry=\"18\"/>\n<text text-anchor=\"middle\" x=\"564\" y=\"-163.3\" font-family=\"Times,serif\" font-size=\"14.00\">&#45;</text>\n</g>\n<!-- 139888361011328&#45;&gt;139888361010896&#45; -->\n<g id=\"edge5\" class=\"edge\">\n<title>139888361011328&#45;&gt;139888361010896&#45;</title>\n<path fill=\"none\" stroke=\"black\" d=\"M498.65,-194.49C509.46,-189.87 521.08,-184.91 531.44,-180.48\"/>\n<polygon fill=\"black\" stroke=\"black\" points=\"533.08,-183.59 540.9,-176.44 530.33,-177.15 533.08,-183.59\"/>\n</g>\n<!-- 139888361010896 -->\n<g id=\"node5\" class=\"node\">\n<title>139888361010896</title>\n<polygon fill=\"none\" stroke=\"black\" points=\"627,-132.5 627,-201.5 711,-201.5 711,-132.5 627,-132.5\"/>\n<text text-anchor=\"middle\" x=\"669\" y=\"-186.3\" font-family=\"Times,serif\" font-size=\"14.00\">g</text>\n<polyline fill=\"none\" stroke=\"black\" points=\"627,-178.5 711,-178.5 \"/>\n<text text-anchor=\"middle\" x=\"669\" y=\"-163.3\" font-family=\"Times,serif\" font-size=\"14.00\">data: 15.000</text>\n<polyline fill=\"none\" stroke=\"black\" points=\"627,-155.5 711,-155.5 \"/>\n<text text-anchor=\"middle\" x=\"669\" y=\"-140.3\" font-family=\"Times,serif\" font-size=\"14.00\">grad: 1.000</text>\n</g>\n<!-- 139888361010896&#45;&#45;&gt;139888361010896 -->\n<g id=\"edge2\" class=\"edge\">\n<title>139888361010896&#45;&#45;&gt;139888361010896</title>\n<path fill=\"none\" stroke=\"black\" d=\"M591.26,-167C599.05,-167 607.88,-167 616.69,-167\"/>\n<polygon fill=\"black\" stroke=\"black\" points=\"616.97,-170.5 626.97,-167 616.97,-163.5 616.97,-170.5\"/>\n</g>\n<!-- 139888361012480 -->\n<g id=\"node7\" class=\"node\">\n<title>139888361012480</title>\n<polygon fill=\"none\" stroke=\"black\" points=\"417,-88.5 417,-157.5 501,-157.5 501,-88.5 417,-88.5\"/>\n<text text-anchor=\"middle\" x=\"459\" y=\"-142.3\" font-family=\"Times,serif\" font-size=\"14.00\">f</text>\n<polyline fill=\"none\" stroke=\"black\" points=\"417,-134.5 501,-134.5 \"/>\n<text text-anchor=\"middle\" x=\"459\" y=\"-119.3\" font-family=\"Times,serif\" font-size=\"14.00\">data: 15.000</text>\n<polyline fill=\"none\" stroke=\"black\" points=\"417,-111.5 501,-111.5 \"/>\n<text text-anchor=\"middle\" x=\"459\" y=\"-96.3\" font-family=\"Times,serif\" font-size=\"14.00\">grad: 1.000</text>\n</g>\n<!-- 139888361012480&#45;&gt;139888361010896&#45; -->\n<g id=\"edge6\" class=\"edge\">\n<title>139888361012480&#45;&gt;139888361010896&#45;</title>\n<path fill=\"none\" stroke=\"black\" d=\"M501,-140.52C511.19,-144.87 521.94,-149.46 531.58,-153.58\"/>\n<polygon fill=\"black\" stroke=\"black\" points=\"530.22,-156.8 540.79,-157.51 532.97,-150.36 530.22,-156.8\"/>\n</g>\n<!-- 139888361012480*&#45;&gt;139888361012480 -->\n<g id=\"edge3\" class=\"edge\">\n<title>139888361012480*&#45;&gt;139888361012480</title>\n<path fill=\"none\" stroke=\"black\" d=\"M381.26,-123C389.05,-123 397.88,-123 406.69,-123\"/>\n<polygon fill=\"black\" stroke=\"black\" points=\"406.97,-126.5 416.97,-123 406.97,-119.5 406.97,-126.5\"/>\n</g>\n<!-- 139888361012096 -->\n<g id=\"node9\" class=\"node\">\n<title>139888361012096</title>\n<polygon fill=\"none\" stroke=\"black\" points=\"3.5,-88.5 3.5,-157.5 82.5,-157.5 82.5,-88.5 3.5,-88.5\"/>\n<text text-anchor=\"middle\" x=\"43\" y=\"-142.3\" font-family=\"Times,serif\" font-size=\"14.00\">a</text>\n<polyline fill=\"none\" stroke=\"black\" points=\"3.5,-134.5 82.5,-134.5 \"/>\n<text text-anchor=\"middle\" x=\"43\" y=\"-119.3\" font-family=\"Times,serif\" font-size=\"14.00\">data: 5.000</text>\n<polyline fill=\"none\" stroke=\"black\" points=\"3.5,-111.5 82.5,-111.5 \"/>\n<text text-anchor=\"middle\" x=\"43\" y=\"-96.3\" font-family=\"Times,serif\" font-size=\"14.00\">grad: 3.000</text>\n</g>\n<!-- 139888361012096&#45;&gt;139888361009696* -->\n<g id=\"edge4\" class=\"edge\">\n<title>139888361012096&#45;&gt;139888361009696*</title>\n<path fill=\"none\" stroke=\"black\" d=\"M82.73,-106.62C93.87,-101.9 105.88,-96.82 116.53,-92.31\"/>\n<polygon fill=\"black\" stroke=\"black\" points=\"118.01,-95.49 125.86,-88.37 115.28,-89.04 118.01,-95.49\"/>\n</g>\n<!-- 139888361011616 -->\n<g id=\"node10\" class=\"node\">\n<title>139888361011616</title>\n<polygon fill=\"none\" stroke=\"black\" points=\"0,-0.5 0,-69.5 86,-69.5 86,-0.5 0,-0.5\"/>\n<text text-anchor=\"middle\" x=\"43\" y=\"-54.3\" font-family=\"Times,serif\" font-size=\"14.00\">b</text>\n<polyline fill=\"none\" stroke=\"black\" points=\"0,-46.5 86,-46.5 \"/>\n<text text-anchor=\"middle\" x=\"43\" y=\"-31.3\" font-family=\"Times,serif\" font-size=\"14.00\">data: 1.000</text>\n<polyline fill=\"none\" stroke=\"black\" points=\"0,-23.5 86,-23.5 \"/>\n<text text-anchor=\"middle\" x=\"43\" y=\"-8.3\" font-family=\"Times,serif\" font-size=\"14.00\">grad: 15.000</text>\n</g>\n<!-- 139888361011616&#45;&gt;139888361009696* -->\n<g id=\"edge8\" class=\"edge\">\n<title>139888361011616&#45;&gt;139888361009696*</title>\n<path fill=\"none\" stroke=\"black\" d=\"M86,-52.77C96.13,-57.05 106.78,-61.56 116.34,-65.61\"/>\n<polygon fill=\"black\" stroke=\"black\" points=\"115.27,-68.95 125.84,-69.63 118,-62.51 115.27,-68.95\"/>\n</g>\n</g>\n</svg>\n"
          },
          "metadata": {},
          "execution_count": 11
        }
      ],
      "source": [
        "# 5. a = 5, b = 1, c = 3, d = 0; e = a * b; f = c * e;   g = f - d\n",
        "\n",
        "a = Value(5., label = 'a') \n",
        "b = Value(1., label = 'b') \n",
        "c = Value(3., label = 'c') \n",
        "d = Value(0., label = 'd') \n",
        "e = a * b; e.label = 'e'   \n",
        "f = e * c; f.label = 'f' \n",
        "g = f - d; g.label = 'g'; g.grad =1\n",
        "\n",
        "f.grad = 1 * g.grad\n",
        "d.grad = 1 * g.grad\n",
        "e.grad = c.data * f.grad\n",
        "c.grad = e.data * f.grad\n",
        "b.grad = a.data * e.grad\n",
        "a.grad = b.data * e.grad\n",
        "\n",
        "draw_dot(g)"
      ]
    }
  ],
  "metadata": {
    "colab": {
      "provenance": []
    },
    "kernelspec": {
      "display_name": "Python 3.8.10 ('base')",
      "language": "python",
      "name": "python3"
    },
    "language_info": {
      "codemirror_mode": {
        "name": "ipython",
        "version": 3
      },
      "file_extension": ".py",
      "mimetype": "text/x-python",
      "name": "python",
      "nbconvert_exporter": "python",
      "pygments_lexer": "ipython3",
      "version": "3.8.10"
    },
    "vscode": {
      "interpreter": {
        "hash": "d4d1e4263499bec80672ea0156c357c1ee493ec2b1c70f0acce89fc37c4a6abe"
      }
    }
  },
  "nbformat": 4,
  "nbformat_minor": 0
}