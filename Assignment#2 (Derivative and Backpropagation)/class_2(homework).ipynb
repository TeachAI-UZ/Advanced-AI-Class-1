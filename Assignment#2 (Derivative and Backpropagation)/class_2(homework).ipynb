{
  "cells": [
    {
      "cell_type": "code",
      "execution_count": 25,
      "metadata": {
        "id": "tdH-N_3Z_UAt",
        "colab": {
          "base_uri": "https://localhost:8080/"
        },
        "outputId": "2458f854-6f03-4dc8-db54-ac336ec56825"
      },
      "outputs": [
        {
          "output_type": "stream",
          "name": "stdout",
          "text": [
            "The autoreload extension is already loaded. To reload it, use:\n",
            "  %reload_ext autoreload\n"
          ]
        }
      ],
      "source": [
        "import math\n",
        "import numpy as np\n",
        "import matplotlib.pyplot as plt\n",
        "from graphviz import Digraph\n",
        "\n",
        "%matplotlib inline\n",
        "%load_ext autoreload\n",
        "%autoreload 2"
      ]
    },
    {
      "cell_type": "code",
      "execution_count": 26,
      "metadata": {
        "id": "ItDZprVxGvn6"
      },
      "outputs": [],
      "source": [
        "class Value:\n",
        "    \n",
        "    def __init__(self, data, _children=(), _op=\"\", label=\"\"): \n",
        "        \n",
        "        self.data = data\n",
        "        self._prev = set(_children)\n",
        "        self._op = _op\n",
        "        self.grad = 0\n",
        "        self.label = label\n",
        "    \n",
        "    def __repr__(self):\n",
        "        return f\"Value(data={self.data})\"\n",
        "\n",
        "    def __add__(self, other): # a + b\n",
        "        return Value(self.data + other.data, (self, other), \"+\")\n",
        "    \n",
        "    def __mul__(self, other):\n",
        "        return Value(self.data * other.data, (self, other), \"*\")\n",
        "    \n",
        "    def __sub__(self, other):\n",
        "        return Value(self.data - other.data, (self, other), \"-\")\n",
        "    \n",
        "\n",
        "    #def backward()\n",
        "\n",
        "#L.backward()"
      ]
    },
    {
      "cell_type": "code",
      "execution_count": 27,
      "metadata": {
        "id": "QJm2ZrjIGvn5"
      },
      "outputs": [],
      "source": [
        "def get_nodes_edges(output):\n",
        "    \n",
        "    nodes, edges = set(), set()\n",
        "\n",
        "    def add_nodes_edges(node):\n",
        "        \n",
        "        if node not in nodes:\n",
        "            nodes.add(node)\n",
        "            for val in node._prev:\n",
        "                edges.add((val, node))\n",
        "                add_nodes_edges(val)\n",
        "    \n",
        "    add_nodes_edges(output)\n",
        "    \n",
        "    return nodes, edges\n",
        "\n",
        "def draw_dot(output, mode = 'svg', rank = 'LR'):\n",
        "    \n",
        "    \"\"\"\n",
        "    mode: png | svg | ...\n",
        "    rank: TB (top to bottom graph) | LR (left to right)\n",
        "    \"\"\"\n",
        "    \n",
        "    assert rank in ['LR', 'TB']\n",
        "    nodes, edges = get_nodes_edges(output)\n",
        "    dot = Digraph(format = mode, graph_attr={'rankdir': rank}) \n",
        "    \n",
        "    for node in nodes:\n",
        "        dot.node(name=str(id(node)), label = f\"{node.label} | data: {node.data:.3f} | grad: {node.grad:.3f}\", shape='record')\n",
        "        if node._op:\n",
        "            dot.node(name=str(id(node)) + node._op, label = node._op)\n",
        "            dot.edge(str(id(node)) + node._op, str(id(node)))\n",
        "    \n",
        "    for val, node in edges:\n",
        "        dot.edge(str(id(val)), str(id(node)) + node._op)\n",
        "    \n",
        "    return dot"
      ]
    },
    {
      "cell_type": "code",
      "execution_count": null,
      "metadata": {
        "id": "Ir63RhBbGvn3"
      },
      "outputs": [],
      "source": [
        "a) Get the derivates of the following functions:\n",
        "\n",
        "1. 3x^2 - 10x + 3                               -->  1. 6x - 10\n",
        "2. 4x^3 + x^2 - 23x + 50                        -->  2. 12x^2 + 2x - 23  \n",
        "3. x^4- 15x^3 + 20x^2 - 193x + 23               -->  3. 4x^3- 45x^2 + 40x - 193\n",
        "4. 10x^5 - 21x^4- x^3 + 3x^2 - 45x + 3          -->  4. 50x^4 - 84x^3- 3x^2 + 6x - 45\n",
        "5. 3x^6 + 13x^5 - x^4- 3x^3 + 12x^2 - 33x       -->  5. 18x^5 + 65x^4 - 4x^3- 9x^2 + 24x - 33"
      ]
    },
    {
      "cell_type": "code",
      "source": [],
      "metadata": {
        "id": "2nTDccyv3TwZ"
      },
      "execution_count": null,
      "outputs": []
    },
    {
      "cell_type": "code",
      "source": [],
      "metadata": {
        "id": "u-srlwwDE_uK"
      },
      "execution_count": null,
      "outputs": []
    },
    {
      "cell_type": "code",
      "execution_count": null,
      "metadata": {
        "id": "C4VuE7lNGvn4"
      },
      "outputs": [],
      "source": [
        "b) Plot and compute the gradients of the following computations:\n",
        "\n",
        "1. a = 3, b = -1, c = 4; e = a + b; d = e - c\n",
        "2. a = -2, b = 3, c = -4, d = -3; e = a - b; f = c + e; g = f - d\n",
        "3. a = -1, b = 4, c = -1, d = -2; e = a * b; f = c - e; g = f + d\n",
        "4. a = 3, b = 0, c = -2, d = 4; e = a - b; f = c * e;   g = f - d\n",
        "5. a = 5, b = 1, c = 3, d = 0; e = a * b; f = c * e;   g = f - d"
      ]
    },
    {
      "cell_type": "code",
      "source": [],
      "metadata": {
        "id": "ayBBh1tYFAIJ"
      },
      "execution_count": null,
      "outputs": []
    },
    {
      "cell_type": "code",
      "execution_count": 28,
      "metadata": {
        "colab": {
          "base_uri": "https://localhost:8080/",
          "height": 301
        },
        "id": "gtv7OteCGvn7",
        "outputId": "539f0d44-55fc-4783-ec82-bdfda8ebb6f3"
      },
      "outputs": [
        {
          "output_type": "execute_result",
          "data": {
            "text/plain": [
              "<graphviz.dot.Digraph at 0x7f61ce7e4040>"
            ],
            "image/svg+xml": "<?xml version=\"1.0\" encoding=\"UTF-8\" standalone=\"no\"?>\n<!DOCTYPE svg PUBLIC \"-//W3C//DTD SVG 1.1//EN\"\n \"http://www.w3.org/Graphics/SVG/1.1/DTD/svg11.dtd\">\n<!-- Generated by graphviz version 2.43.0 (0)\n -->\n<!-- Title: %3 Pages: 1 -->\n<svg width=\"503pt\" height=\"210pt\"\n viewBox=\"0.00 0.00 503.00 210.00\" xmlns=\"http://www.w3.org/2000/svg\" xmlns:xlink=\"http://www.w3.org/1999/xlink\">\n<g id=\"graph0\" class=\"graph\" transform=\"scale(1 1) rotate(0) translate(4 206)\">\n<title>%3</title>\n<polygon fill=\"white\" stroke=\"transparent\" points=\"-4,4 -4,-206 499,-206 499,4 -4,4\"/>\n<!-- 140058052761632 -->\n<g id=\"node1\" class=\"node\">\n<title>140058052761632</title>\n<polygon fill=\"none\" stroke=\"black\" points=\"413,-88.5 413,-157.5 495,-157.5 495,-88.5 413,-88.5\"/>\n<text text-anchor=\"middle\" x=\"454\" y=\"-142.3\" font-family=\"Times,serif\" font-size=\"14.00\">d</text>\n<polyline fill=\"none\" stroke=\"black\" points=\"413,-134.5 495,-134.5 \"/>\n<text text-anchor=\"middle\" x=\"454\" y=\"-119.3\" font-family=\"Times,serif\" font-size=\"14.00\">data: &#45;2.000</text>\n<polyline fill=\"none\" stroke=\"black\" points=\"413,-111.5 495,-111.5 \"/>\n<text text-anchor=\"middle\" x=\"454\" y=\"-96.3\" font-family=\"Times,serif\" font-size=\"14.00\">grad: 1.000</text>\n</g>\n<!-- 140058052761632&#45; -->\n<g id=\"node2\" class=\"node\">\n<title>140058052761632&#45;</title>\n<ellipse fill=\"none\" stroke=\"black\" cx=\"350\" cy=\"-123\" rx=\"27\" ry=\"18\"/>\n<text text-anchor=\"middle\" x=\"350\" y=\"-119.3\" font-family=\"Times,serif\" font-size=\"14.00\">&#45;</text>\n</g>\n<!-- 140058052761632&#45;&#45;&gt;140058052761632 -->\n<g id=\"edge1\" class=\"edge\">\n<title>140058052761632&#45;&#45;&gt;140058052761632</title>\n<path fill=\"none\" stroke=\"black\" d=\"M377,-123C384.81,-123 393.65,-123 402.48,-123\"/>\n<polygon fill=\"black\" stroke=\"black\" points=\"402.76,-126.5 412.76,-123 402.76,-119.5 402.76,-126.5\"/>\n</g>\n<!-- 140058052761248 -->\n<g id=\"node3\" class=\"node\">\n<title>140058052761248</title>\n<polygon fill=\"none\" stroke=\"black\" points=\"1.5,-88.5 1.5,-157.5 80.5,-157.5 80.5,-88.5 1.5,-88.5\"/>\n<text text-anchor=\"middle\" x=\"41\" y=\"-142.3\" font-family=\"Times,serif\" font-size=\"14.00\">a</text>\n<polyline fill=\"none\" stroke=\"black\" points=\"1.5,-134.5 80.5,-134.5 \"/>\n<text text-anchor=\"middle\" x=\"41\" y=\"-119.3\" font-family=\"Times,serif\" font-size=\"14.00\">data: 3.000</text>\n<polyline fill=\"none\" stroke=\"black\" points=\"1.5,-111.5 80.5,-111.5 \"/>\n<text text-anchor=\"middle\" x=\"41\" y=\"-96.3\" font-family=\"Times,serif\" font-size=\"14.00\">grad: 1.000</text>\n</g>\n<!-- 140058052936176+ -->\n<g id=\"node7\" class=\"node\">\n<title>140058052936176+</title>\n<ellipse fill=\"none\" stroke=\"black\" cx=\"145\" cy=\"-79\" rx=\"27\" ry=\"18\"/>\n<text text-anchor=\"middle\" x=\"145\" y=\"-75.3\" font-family=\"Times,serif\" font-size=\"14.00\">+</text>\n</g>\n<!-- 140058052761248&#45;&gt;140058052936176+ -->\n<g id=\"edge5\" class=\"edge\">\n<title>140058052761248&#45;&gt;140058052936176+</title>\n<path fill=\"none\" stroke=\"black\" d=\"M80.56,-106.37C91.16,-101.79 102.53,-96.89 112.67,-92.51\"/>\n<polygon fill=\"black\" stroke=\"black\" points=\"114.16,-95.68 121.95,-88.51 111.39,-89.26 114.16,-95.68\"/>\n</g>\n<!-- 140058052761776 -->\n<g id=\"node4\" class=\"node\">\n<title>140058052761776</title>\n<polygon fill=\"none\" stroke=\"black\" points=\"0,-0.5 0,-69.5 82,-69.5 82,-0.5 0,-0.5\"/>\n<text text-anchor=\"middle\" x=\"41\" y=\"-54.3\" font-family=\"Times,serif\" font-size=\"14.00\">b</text>\n<polyline fill=\"none\" stroke=\"black\" points=\"0,-46.5 82,-46.5 \"/>\n<text text-anchor=\"middle\" x=\"41\" y=\"-31.3\" font-family=\"Times,serif\" font-size=\"14.00\">data: &#45;1.000</text>\n<polyline fill=\"none\" stroke=\"black\" points=\"0,-23.5 82,-23.5 \"/>\n<text text-anchor=\"middle\" x=\"41\" y=\"-8.3\" font-family=\"Times,serif\" font-size=\"14.00\">grad: 1.000</text>\n</g>\n<!-- 140058052761776&#45;&gt;140058052936176+ -->\n<g id=\"edge4\" class=\"edge\">\n<title>140058052761776&#45;&gt;140058052936176+</title>\n<path fill=\"none\" stroke=\"black\" d=\"M82.02,-52.26C92.23,-56.67 103.06,-61.34 112.77,-65.53\"/>\n<polygon fill=\"black\" stroke=\"black\" points=\"111.46,-68.77 122.03,-69.52 114.23,-62.35 111.46,-68.77\"/>\n</g>\n<!-- 140058052760432 -->\n<g id=\"node5\" class=\"node\">\n<title>140058052760432</title>\n<polygon fill=\"none\" stroke=\"black\" points=\"208,-132.5 208,-201.5 287,-201.5 287,-132.5 208,-132.5\"/>\n<text text-anchor=\"middle\" x=\"247.5\" y=\"-186.3\" font-family=\"Times,serif\" font-size=\"14.00\">c</text>\n<polyline fill=\"none\" stroke=\"black\" points=\"208,-178.5 287,-178.5 \"/>\n<text text-anchor=\"middle\" x=\"247.5\" y=\"-163.3\" font-family=\"Times,serif\" font-size=\"14.00\">data: 4.000</text>\n<polyline fill=\"none\" stroke=\"black\" points=\"208,-155.5 287,-155.5 \"/>\n<text text-anchor=\"middle\" x=\"247.5\" y=\"-140.3\" font-family=\"Times,serif\" font-size=\"14.00\">grad: 1.000</text>\n</g>\n<!-- 140058052760432&#45;&gt;140058052761632&#45; -->\n<g id=\"edge3\" class=\"edge\">\n<title>140058052760432&#45;&gt;140058052761632&#45;</title>\n<path fill=\"none\" stroke=\"black\" d=\"M287.07,-150.11C297.2,-145.68 308,-140.95 317.7,-136.71\"/>\n<polygon fill=\"black\" stroke=\"black\" points=\"319.2,-139.87 326.96,-132.65 316.4,-133.45 319.2,-139.87\"/>\n</g>\n<!-- 140058052936176 -->\n<g id=\"node6\" class=\"node\">\n<title>140058052936176</title>\n<polygon fill=\"none\" stroke=\"black\" points=\"208,-44.5 208,-113.5 287,-113.5 287,-44.5 208,-44.5\"/>\n<text text-anchor=\"middle\" x=\"247.5\" y=\"-98.3\" font-family=\"Times,serif\" font-size=\"14.00\">e</text>\n<polyline fill=\"none\" stroke=\"black\" points=\"208,-90.5 287,-90.5 \"/>\n<text text-anchor=\"middle\" x=\"247.5\" y=\"-75.3\" font-family=\"Times,serif\" font-size=\"14.00\">data: 2.000</text>\n<polyline fill=\"none\" stroke=\"black\" points=\"208,-67.5 287,-67.5 \"/>\n<text text-anchor=\"middle\" x=\"247.5\" y=\"-52.3\" font-family=\"Times,serif\" font-size=\"14.00\">grad: 1.000</text>\n</g>\n<!-- 140058052936176&#45;&gt;140058052761632&#45; -->\n<g id=\"edge6\" class=\"edge\">\n<title>140058052936176&#45;&gt;140058052761632&#45;</title>\n<path fill=\"none\" stroke=\"black\" d=\"M287.07,-95.89C297.2,-100.32 308,-105.05 317.7,-109.29\"/>\n<polygon fill=\"black\" stroke=\"black\" points=\"316.4,-112.55 326.96,-113.35 319.2,-106.13 316.4,-112.55\"/>\n</g>\n<!-- 140058052936176+&#45;&gt;140058052936176 -->\n<g id=\"edge2\" class=\"edge\">\n<title>140058052936176+&#45;&gt;140058052936176</title>\n<path fill=\"none\" stroke=\"black\" d=\"M172.14,-79C180,-79 188.89,-79 197.72,-79\"/>\n<polygon fill=\"black\" stroke=\"black\" points=\"197.99,-82.5 207.99,-79 197.99,-75.5 197.99,-82.5\"/>\n</g>\n</g>\n</svg>\n"
          },
          "metadata": {},
          "execution_count": 28
        }
      ],
      "source": [
        "# 1. a = 3, b = -1, c = 4; e = a + b; d = e - c\n",
        "\n",
        "a = Value(3., label = 'a'); a.grad = 1 * e.grad\n",
        "b = Value(-1., label = 'b'); b.grad = 1 * e.grad\n",
        "c = Value(4., label = 'c'); c.grad = 1 * d.grad\n",
        "e = a + b; e.label = 'e'; e.grad = 1 * d.grad\n",
        "d = e - c; d.label = 'd'; d.grad = 1\n",
        "#L = d; L.label = 'L'; L.grad\n",
        "draw_dot(d)"
      ]
    },
    {
      "cell_type": "code",
      "source": [],
      "metadata": {
        "id": "ZXaJhy38FCcK"
      },
      "execution_count": null,
      "outputs": []
    },
    {
      "cell_type": "code",
      "execution_count": 29,
      "metadata": {
        "colab": {
          "base_uri": "https://localhost:8080/",
          "height": 301
        },
        "id": "A_AOVjUxGvn8",
        "outputId": "9060be37-5cb0-44b3-8c8a-0cab54c00d47"
      },
      "outputs": [
        {
          "output_type": "execute_result",
          "data": {
            "text/plain": [
              "<graphviz.dot.Digraph at 0x7f61ce7e46a0>"
            ],
            "image/svg+xml": "<?xml version=\"1.0\" encoding=\"UTF-8\" standalone=\"no\"?>\n<!DOCTYPE svg PUBLIC \"-//W3C//DTD SVG 1.1//EN\"\n \"http://www.w3.org/Graphics/SVG/1.1/DTD/svg11.dtd\">\n<!-- Generated by graphviz version 2.43.0 (0)\n -->\n<!-- Title: %3 Pages: 1 -->\n<svg width=\"714pt\" height=\"210pt\"\n viewBox=\"0.00 0.00 714.00 210.00\" xmlns=\"http://www.w3.org/2000/svg\" xmlns:xlink=\"http://www.w3.org/1999/xlink\">\n<g id=\"graph0\" class=\"graph\" transform=\"scale(1 1) rotate(0) translate(4 206)\">\n<title>%3</title>\n<polygon fill=\"white\" stroke=\"transparent\" points=\"-4,4 -4,-206 710,-206 710,4 -4,4\"/>\n<!-- 140058053387840 -->\n<g id=\"node1\" class=\"node\">\n<title>140058053387840</title>\n<polygon fill=\"none\" stroke=\"black\" points=\"416,-44.5 416,-113.5 498,-113.5 498,-44.5 416,-44.5\"/>\n<text text-anchor=\"middle\" x=\"457\" y=\"-98.3\" font-family=\"Times,serif\" font-size=\"14.00\"> </text>\n<polyline fill=\"none\" stroke=\"black\" points=\"416,-90.5 498,-90.5 \"/>\n<text text-anchor=\"middle\" x=\"457\" y=\"-75.3\" font-family=\"Times,serif\" font-size=\"14.00\">data: &#45;9.000</text>\n<polyline fill=\"none\" stroke=\"black\" points=\"416,-67.5 498,-67.5 \"/>\n<text text-anchor=\"middle\" x=\"457\" y=\"-52.3\" font-family=\"Times,serif\" font-size=\"14.00\">grad: 1.000</text>\n</g>\n<!-- 140058053390240&#45; -->\n<g id=\"node9\" class=\"node\">\n<title>140058053390240&#45;</title>\n<ellipse fill=\"none\" stroke=\"black\" cx=\"561\" cy=\"-123\" rx=\"27\" ry=\"18\"/>\n<text text-anchor=\"middle\" x=\"561\" y=\"-119.3\" font-family=\"Times,serif\" font-size=\"14.00\">&#45;</text>\n</g>\n<!-- 140058053387840&#45;&gt;140058053390240&#45; -->\n<g id=\"edge9\" class=\"edge\">\n<title>140058053387840&#45;&gt;140058053390240&#45;</title>\n<path fill=\"none\" stroke=\"black\" d=\"M498.02,-96.26C508.23,-100.67 519.06,-105.34 528.77,-109.53\"/>\n<polygon fill=\"black\" stroke=\"black\" points=\"527.46,-112.77 538.03,-113.52 530.23,-106.35 527.46,-112.77\"/>\n</g>\n<!-- 140058053387840+ -->\n<g id=\"node2\" class=\"node\">\n<title>140058053387840+</title>\n<ellipse fill=\"none\" stroke=\"black\" cx=\"353\" cy=\"-79\" rx=\"27\" ry=\"18\"/>\n<text text-anchor=\"middle\" x=\"353\" y=\"-75.3\" font-family=\"Times,serif\" font-size=\"14.00\">+</text>\n</g>\n<!-- 140058053387840+&#45;&gt;140058053387840 -->\n<g id=\"edge1\" class=\"edge\">\n<title>140058053387840+&#45;&gt;140058053387840</title>\n<path fill=\"none\" stroke=\"black\" d=\"M380,-79C387.81,-79 396.65,-79 405.48,-79\"/>\n<polygon fill=\"black\" stroke=\"black\" points=\"405.76,-82.5 415.76,-79 405.76,-75.5 405.76,-82.5\"/>\n</g>\n<!-- 140058053389424 -->\n<g id=\"node3\" class=\"node\">\n<title>140058053389424</title>\n<polygon fill=\"none\" stroke=\"black\" points=\"208,-88.5 208,-157.5 290,-157.5 290,-88.5 208,-88.5\"/>\n<text text-anchor=\"middle\" x=\"249\" y=\"-142.3\" font-family=\"Times,serif\" font-size=\"14.00\">e</text>\n<polyline fill=\"none\" stroke=\"black\" points=\"208,-134.5 290,-134.5 \"/>\n<text text-anchor=\"middle\" x=\"249\" y=\"-119.3\" font-family=\"Times,serif\" font-size=\"14.00\">data: &#45;5.000</text>\n<polyline fill=\"none\" stroke=\"black\" points=\"208,-111.5 290,-111.5 \"/>\n<text text-anchor=\"middle\" x=\"249\" y=\"-96.3\" font-family=\"Times,serif\" font-size=\"14.00\">grad: 1.000</text>\n</g>\n<!-- 140058053389424&#45;&gt;140058053387840+ -->\n<g id=\"edge8\" class=\"edge\">\n<title>140058053389424&#45;&gt;140058053387840+</title>\n<path fill=\"none\" stroke=\"black\" d=\"M290.02,-105.74C300.23,-101.33 311.06,-96.66 320.77,-92.47\"/>\n<polygon fill=\"black\" stroke=\"black\" points=\"322.23,-95.65 330.03,-88.48 319.46,-89.23 322.23,-95.65\"/>\n</g>\n<!-- 140058053389424&#45; -->\n<g id=\"node4\" class=\"node\">\n<title>140058053389424&#45;</title>\n<ellipse fill=\"none\" stroke=\"black\" cx=\"145\" cy=\"-123\" rx=\"27\" ry=\"18\"/>\n<text text-anchor=\"middle\" x=\"145\" y=\"-119.3\" font-family=\"Times,serif\" font-size=\"14.00\">&#45;</text>\n</g>\n<!-- 140058053389424&#45;&#45;&gt;140058053389424 -->\n<g id=\"edge2\" class=\"edge\">\n<title>140058053389424&#45;&#45;&gt;140058053389424</title>\n<path fill=\"none\" stroke=\"black\" d=\"M172,-123C179.81,-123 188.65,-123 197.48,-123\"/>\n<polygon fill=\"black\" stroke=\"black\" points=\"197.76,-126.5 207.76,-123 197.76,-119.5 197.76,-126.5\"/>\n</g>\n<!-- 140058053390000 -->\n<g id=\"node5\" class=\"node\">\n<title>140058053390000</title>\n<polygon fill=\"none\" stroke=\"black\" points=\"0,-132.5 0,-201.5 82,-201.5 82,-132.5 0,-132.5\"/>\n<text text-anchor=\"middle\" x=\"41\" y=\"-186.3\" font-family=\"Times,serif\" font-size=\"14.00\">a</text>\n<polyline fill=\"none\" stroke=\"black\" points=\"0,-178.5 82,-178.5 \"/>\n<text text-anchor=\"middle\" x=\"41\" y=\"-163.3\" font-family=\"Times,serif\" font-size=\"14.00\">data: &#45;2.000</text>\n<polyline fill=\"none\" stroke=\"black\" points=\"0,-155.5 82,-155.5 \"/>\n<text text-anchor=\"middle\" x=\"41\" y=\"-140.3\" font-family=\"Times,serif\" font-size=\"14.00\">grad: 1.000</text>\n</g>\n<!-- 140058053390000&#45;&gt;140058053389424&#45; -->\n<g id=\"edge4\" class=\"edge\">\n<title>140058053390000&#45;&gt;140058053389424&#45;</title>\n<path fill=\"none\" stroke=\"black\" d=\"M82.02,-149.74C92.23,-145.33 103.06,-140.66 112.77,-136.47\"/>\n<polygon fill=\"black\" stroke=\"black\" points=\"114.23,-139.65 122.03,-132.48 111.46,-133.23 114.23,-139.65\"/>\n</g>\n<!-- 140058053389520 -->\n<g id=\"node6\" class=\"node\">\n<title>140058053389520</title>\n<polygon fill=\"none\" stroke=\"black\" points=\"416,-132.5 416,-201.5 498,-201.5 498,-132.5 416,-132.5\"/>\n<text text-anchor=\"middle\" x=\"457\" y=\"-186.3\" font-family=\"Times,serif\" font-size=\"14.00\">g</text>\n<polyline fill=\"none\" stroke=\"black\" points=\"416,-178.5 498,-178.5 \"/>\n<text text-anchor=\"middle\" x=\"457\" y=\"-163.3\" font-family=\"Times,serif\" font-size=\"14.00\">data: &#45;3.000</text>\n<polyline fill=\"none\" stroke=\"black\" points=\"416,-155.5 498,-155.5 \"/>\n<text text-anchor=\"middle\" x=\"457\" y=\"-140.3\" font-family=\"Times,serif\" font-size=\"14.00\">grad: 1.000</text>\n</g>\n<!-- 140058053389520&#45;&gt;140058053390240&#45; -->\n<g id=\"edge5\" class=\"edge\">\n<title>140058053389520&#45;&gt;140058053390240&#45;</title>\n<path fill=\"none\" stroke=\"black\" d=\"M498.02,-149.74C508.23,-145.33 519.06,-140.66 528.77,-136.47\"/>\n<polygon fill=\"black\" stroke=\"black\" points=\"530.23,-139.65 538.03,-132.48 527.46,-133.23 530.23,-139.65\"/>\n</g>\n<!-- 140058053389040 -->\n<g id=\"node7\" class=\"node\">\n<title>140058053389040</title>\n<polygon fill=\"none\" stroke=\"black\" points=\"1.5,-44.5 1.5,-113.5 80.5,-113.5 80.5,-44.5 1.5,-44.5\"/>\n<text text-anchor=\"middle\" x=\"41\" y=\"-98.3\" font-family=\"Times,serif\" font-size=\"14.00\">b</text>\n<polyline fill=\"none\" stroke=\"black\" points=\"1.5,-90.5 80.5,-90.5 \"/>\n<text text-anchor=\"middle\" x=\"41\" y=\"-75.3\" font-family=\"Times,serif\" font-size=\"14.00\">data: 3.000</text>\n<polyline fill=\"none\" stroke=\"black\" points=\"1.5,-67.5 80.5,-67.5 \"/>\n<text text-anchor=\"middle\" x=\"41\" y=\"-52.3\" font-family=\"Times,serif\" font-size=\"14.00\">grad: 1.000</text>\n</g>\n<!-- 140058053389040&#45;&gt;140058053389424&#45; -->\n<g id=\"edge7\" class=\"edge\">\n<title>140058053389040&#45;&gt;140058053389424&#45;</title>\n<path fill=\"none\" stroke=\"black\" d=\"M80.56,-95.63C91.16,-100.21 102.53,-105.11 112.67,-109.49\"/>\n<polygon fill=\"black\" stroke=\"black\" points=\"111.39,-112.74 121.95,-113.49 114.16,-106.32 111.39,-112.74\"/>\n</g>\n<!-- 140058053390240 -->\n<g id=\"node8\" class=\"node\">\n<title>140058053390240</title>\n<polygon fill=\"none\" stroke=\"black\" points=\"624,-88.5 624,-157.5 706,-157.5 706,-88.5 624,-88.5\"/>\n<text text-anchor=\"middle\" x=\"665\" y=\"-142.3\" font-family=\"Times,serif\" font-size=\"14.00\"> </text>\n<polyline fill=\"none\" stroke=\"black\" points=\"624,-134.5 706,-134.5 \"/>\n<text text-anchor=\"middle\" x=\"665\" y=\"-119.3\" font-family=\"Times,serif\" font-size=\"14.00\">data: &#45;6.000</text>\n<polyline fill=\"none\" stroke=\"black\" points=\"624,-111.5 706,-111.5 \"/>\n<text text-anchor=\"middle\" x=\"665\" y=\"-96.3\" font-family=\"Times,serif\" font-size=\"14.00\">grad: 1.000</text>\n</g>\n<!-- 140058053390240&#45;&#45;&gt;140058053390240 -->\n<g id=\"edge3\" class=\"edge\">\n<title>140058053390240&#45;&#45;&gt;140058053390240</title>\n<path fill=\"none\" stroke=\"black\" d=\"M588,-123C595.81,-123 604.65,-123 613.48,-123\"/>\n<polygon fill=\"black\" stroke=\"black\" points=\"613.76,-126.5 623.76,-123 613.76,-119.5 613.76,-126.5\"/>\n</g>\n<!-- 140058053388272 -->\n<g id=\"node10\" class=\"node\">\n<title>140058053388272</title>\n<polygon fill=\"none\" stroke=\"black\" points=\"208,-0.5 208,-69.5 290,-69.5 290,-0.5 208,-0.5\"/>\n<text text-anchor=\"middle\" x=\"249\" y=\"-54.3\" font-family=\"Times,serif\" font-size=\"14.00\">c</text>\n<polyline fill=\"none\" stroke=\"black\" points=\"208,-46.5 290,-46.5 \"/>\n<text text-anchor=\"middle\" x=\"249\" y=\"-31.3\" font-family=\"Times,serif\" font-size=\"14.00\">data: &#45;4.000</text>\n<polyline fill=\"none\" stroke=\"black\" points=\"208,-23.5 290,-23.5 \"/>\n<text text-anchor=\"middle\" x=\"249\" y=\"-8.3\" font-family=\"Times,serif\" font-size=\"14.00\">grad: 1.000</text>\n</g>\n<!-- 140058053388272&#45;&gt;140058053387840+ -->\n<g id=\"edge6\" class=\"edge\">\n<title>140058053388272&#45;&gt;140058053387840+</title>\n<path fill=\"none\" stroke=\"black\" d=\"M290.02,-52.26C300.23,-56.67 311.06,-61.34 320.77,-65.53\"/>\n<polygon fill=\"black\" stroke=\"black\" points=\"319.46,-68.77 330.03,-69.52 322.23,-62.35 319.46,-68.77\"/>\n</g>\n</g>\n</svg>\n"
          },
          "metadata": {},
          "execution_count": 29
        }
      ],
      "source": [
        "# 2. a = -2, b = 3, c = -4, d = -3; e = a - b; f = c + e; g = f - d\n",
        "\n",
        "a = Value(-2., label = 'a'); a.grad = 1 * e.grad\n",
        "b = Value(3., label = 'b'); b.grad = 1 * e.grad\n",
        "c = Value(-4., label = 'c'); c.grad = 1 * f.grad\n",
        "d = Value(-3., label = 'd'); d.grad = 1 * g.grad\n",
        "e = a - b; e.label = 'e'; e.grad = 1 * f.grad\n",
        "f = e + c; d.label = 'f'; f.grad = 1 * g.grad\n",
        "g = f - d; d.label = 'g'; g.grad =1\n",
        "#L = g; L.label = 'L'; L.grad\n",
        "draw_dot(g)"
      ]
    },
    {
      "cell_type": "code",
      "source": [],
      "metadata": {
        "id": "RB4mExBMFFKp"
      },
      "execution_count": null,
      "outputs": []
    },
    {
      "cell_type": "code",
      "execution_count": 30,
      "metadata": {
        "colab": {
          "base_uri": "https://localhost:8080/",
          "height": 360
        },
        "id": "qpnD9_byGvn8",
        "outputId": "38f3a7ef-e475-40f5-c8fc-49431ef2615f"
      },
      "outputs": [
        {
          "output_type": "execute_result",
          "data": {
            "text/plain": [
              "<graphviz.dot.Digraph at 0x7f61ce852fd0>"
            ],
            "image/svg+xml": "<?xml version=\"1.0\" encoding=\"UTF-8\" standalone=\"no\"?>\n<!DOCTYPE svg PUBLIC \"-//W3C//DTD SVG 1.1//EN\"\n \"http://www.w3.org/Graphics/SVG/1.1/DTD/svg11.dtd\">\n<!-- Generated by graphviz version 2.43.0 (0)\n -->\n<!-- Title: %3 Pages: 1 -->\n<svg width=\"712pt\" height=\"254pt\"\n viewBox=\"0.00 0.00 712.00 254.00\" xmlns=\"http://www.w3.org/2000/svg\" xmlns:xlink=\"http://www.w3.org/1999/xlink\">\n<g id=\"graph0\" class=\"graph\" transform=\"scale(1 1) rotate(0) translate(4 250)\">\n<title>%3</title>\n<polygon fill=\"white\" stroke=\"transparent\" points=\"-4,4 -4,-250 708,-250 708,4 -4,4\"/>\n<!-- 140058052936752 -->\n<g id=\"node1\" class=\"node\">\n<title>140058052936752</title>\n<polygon fill=\"none\" stroke=\"black\" points=\"0.5,-176.5 0.5,-245.5 82.5,-245.5 82.5,-176.5 0.5,-176.5\"/>\n<text text-anchor=\"middle\" x=\"41.5\" y=\"-230.3\" font-family=\"Times,serif\" font-size=\"14.00\">a</text>\n<polyline fill=\"none\" stroke=\"black\" points=\"0.5,-222.5 82.5,-222.5 \"/>\n<text text-anchor=\"middle\" x=\"41.5\" y=\"-207.3\" font-family=\"Times,serif\" font-size=\"14.00\">data: &#45;1.000</text>\n<polyline fill=\"none\" stroke=\"black\" points=\"0.5,-199.5 82.5,-199.5 \"/>\n<text text-anchor=\"middle\" x=\"41.5\" y=\"-184.3\" font-family=\"Times,serif\" font-size=\"14.00\">grad: 3.000</text>\n</g>\n<!-- 140058052939488* -->\n<g id=\"node9\" class=\"node\">\n<title>140058052939488*</title>\n<ellipse fill=\"none\" stroke=\"black\" cx=\"146\" cy=\"-167\" rx=\"27\" ry=\"18\"/>\n<text text-anchor=\"middle\" x=\"146\" y=\"-163.3\" font-family=\"Times,serif\" font-size=\"14.00\">*</text>\n</g>\n<!-- 140058052936752&#45;&gt;140058052939488* -->\n<g id=\"edge9\" class=\"edge\">\n<title>140058052936752&#45;&gt;140058052939488*</title>\n<path fill=\"none\" stroke=\"black\" d=\"M82.72,-193.74C92.98,-189.33 103.86,-184.66 113.61,-180.47\"/>\n<polygon fill=\"black\" stroke=\"black\" points=\"115.11,-183.64 122.92,-176.48 112.35,-177.21 115.11,-183.64\"/>\n</g>\n<!-- 140058052939344 -->\n<g id=\"node2\" class=\"node\">\n<title>140058052939344</title>\n<polygon fill=\"none\" stroke=\"black\" points=\"417,-0.5 417,-69.5 499,-69.5 499,-0.5 417,-0.5\"/>\n<text text-anchor=\"middle\" x=\"458\" y=\"-54.3\" font-family=\"Times,serif\" font-size=\"14.00\">g</text>\n<polyline fill=\"none\" stroke=\"black\" points=\"417,-46.5 499,-46.5 \"/>\n<text text-anchor=\"middle\" x=\"458\" y=\"-31.3\" font-family=\"Times,serif\" font-size=\"14.00\">data: &#45;2.000</text>\n<polyline fill=\"none\" stroke=\"black\" points=\"417,-23.5 499,-23.5 \"/>\n<text text-anchor=\"middle\" x=\"458\" y=\"-8.3\" font-family=\"Times,serif\" font-size=\"14.00\">grad: 1.000</text>\n</g>\n<!-- 140058052936320+ -->\n<g id=\"node5\" class=\"node\">\n<title>140058052936320+</title>\n<ellipse fill=\"none\" stroke=\"black\" cx=\"562\" cy=\"-79\" rx=\"27\" ry=\"18\"/>\n<text text-anchor=\"middle\" x=\"562\" y=\"-75.3\" font-family=\"Times,serif\" font-size=\"14.00\">+</text>\n</g>\n<!-- 140058052939344&#45;&gt;140058052936320+ -->\n<g id=\"edge7\" class=\"edge\">\n<title>140058052939344&#45;&gt;140058052936320+</title>\n<path fill=\"none\" stroke=\"black\" d=\"M499.02,-52.26C509.23,-56.67 520.06,-61.34 529.77,-65.53\"/>\n<polygon fill=\"black\" stroke=\"black\" points=\"528.46,-68.77 539.03,-69.52 531.23,-62.35 528.46,-68.77\"/>\n</g>\n<!-- 140058052935792 -->\n<g id=\"node3\" class=\"node\">\n<title>140058052935792</title>\n<polygon fill=\"none\" stroke=\"black\" points=\"0,-88.5 0,-157.5 83,-157.5 83,-88.5 0,-88.5\"/>\n<text text-anchor=\"middle\" x=\"41.5\" y=\"-142.3\" font-family=\"Times,serif\" font-size=\"14.00\">b</text>\n<polyline fill=\"none\" stroke=\"black\" points=\"0,-134.5 83,-134.5 \"/>\n<text text-anchor=\"middle\" x=\"41.5\" y=\"-119.3\" font-family=\"Times,serif\" font-size=\"14.00\">data: 4.000</text>\n<polyline fill=\"none\" stroke=\"black\" points=\"0,-111.5 83,-111.5 \"/>\n<text text-anchor=\"middle\" x=\"41.5\" y=\"-96.3\" font-family=\"Times,serif\" font-size=\"14.00\">grad: &#45;1.000</text>\n</g>\n<!-- 140058052935792&#45;&gt;140058052939488* -->\n<g id=\"edge8\" class=\"edge\">\n<title>140058052935792&#45;&gt;140058052939488*</title>\n<path fill=\"none\" stroke=\"black\" d=\"M83.01,-140.39C93.17,-144.75 103.91,-149.36 113.55,-153.5\"/>\n<polygon fill=\"black\" stroke=\"black\" points=\"112.19,-156.73 122.76,-157.45 114.95,-150.29 112.19,-156.73\"/>\n</g>\n<!-- 140058052936320 -->\n<g id=\"node4\" class=\"node\">\n<title>140058052936320</title>\n<polygon fill=\"none\" stroke=\"black\" points=\"625,-44.5 625,-113.5 704,-113.5 704,-44.5 625,-44.5\"/>\n<text text-anchor=\"middle\" x=\"664.5\" y=\"-98.3\" font-family=\"Times,serif\" font-size=\"14.00\"> </text>\n<polyline fill=\"none\" stroke=\"black\" points=\"625,-90.5 704,-90.5 \"/>\n<text text-anchor=\"middle\" x=\"664.5\" y=\"-75.3\" font-family=\"Times,serif\" font-size=\"14.00\">data: 1.000</text>\n<polyline fill=\"none\" stroke=\"black\" points=\"625,-67.5 704,-67.5 \"/>\n<text text-anchor=\"middle\" x=\"664.5\" y=\"-52.3\" font-family=\"Times,serif\" font-size=\"14.00\">grad: 1.000</text>\n</g>\n<!-- 140058052936320+&#45;&gt;140058052936320 -->\n<g id=\"edge1\" class=\"edge\">\n<title>140058052936320+&#45;&gt;140058052936320</title>\n<path fill=\"none\" stroke=\"black\" d=\"M589.14,-79C597,-79 605.89,-79 614.72,-79\"/>\n<polygon fill=\"black\" stroke=\"black\" points=\"614.99,-82.5 624.99,-79 614.99,-75.5 614.99,-82.5\"/>\n</g>\n<!-- 140058052938384 -->\n<g id=\"node6\" class=\"node\">\n<title>140058052938384</title>\n<polygon fill=\"none\" stroke=\"black\" points=\"418.5,-88.5 418.5,-157.5 497.5,-157.5 497.5,-88.5 418.5,-88.5\"/>\n<text text-anchor=\"middle\" x=\"458\" y=\"-142.3\" font-family=\"Times,serif\" font-size=\"14.00\"> </text>\n<polyline fill=\"none\" stroke=\"black\" points=\"418.5,-134.5 497.5,-134.5 \"/>\n<text text-anchor=\"middle\" x=\"458\" y=\"-119.3\" font-family=\"Times,serif\" font-size=\"14.00\">data: 3.000</text>\n<polyline fill=\"none\" stroke=\"black\" points=\"418.5,-111.5 497.5,-111.5 \"/>\n<text text-anchor=\"middle\" x=\"458\" y=\"-96.3\" font-family=\"Times,serif\" font-size=\"14.00\">grad: 1.000</text>\n</g>\n<!-- 140058052938384&#45;&gt;140058052936320+ -->\n<g id=\"edge6\" class=\"edge\">\n<title>140058052938384&#45;&gt;140058052936320+</title>\n<path fill=\"none\" stroke=\"black\" d=\"M497.56,-106.37C508.16,-101.79 519.53,-96.89 529.67,-92.51\"/>\n<polygon fill=\"black\" stroke=\"black\" points=\"531.16,-95.68 538.95,-88.51 528.39,-89.26 531.16,-95.68\"/>\n</g>\n<!-- 140058052938384&#45; -->\n<g id=\"node7\" class=\"node\">\n<title>140058052938384&#45;</title>\n<ellipse fill=\"none\" stroke=\"black\" cx=\"354\" cy=\"-123\" rx=\"27\" ry=\"18\"/>\n<text text-anchor=\"middle\" x=\"354\" y=\"-119.3\" font-family=\"Times,serif\" font-size=\"14.00\">&#45;</text>\n</g>\n<!-- 140058052938384&#45;&#45;&gt;140058052938384 -->\n<g id=\"edge2\" class=\"edge\">\n<title>140058052938384&#45;&#45;&gt;140058052938384</title>\n<path fill=\"none\" stroke=\"black\" d=\"M381,-123C389.33,-123 398.83,-123 408.23,-123\"/>\n<polygon fill=\"black\" stroke=\"black\" points=\"408.33,-126.5 418.33,-123 408.33,-119.5 408.33,-126.5\"/>\n</g>\n<!-- 140058052939488 -->\n<g id=\"node8\" class=\"node\">\n<title>140058052939488</title>\n<polygon fill=\"none\" stroke=\"black\" points=\"209,-132.5 209,-201.5 291,-201.5 291,-132.5 209,-132.5\"/>\n<text text-anchor=\"middle\" x=\"250\" y=\"-186.3\" font-family=\"Times,serif\" font-size=\"14.00\">e</text>\n<polyline fill=\"none\" stroke=\"black\" points=\"209,-178.5 291,-178.5 \"/>\n<text text-anchor=\"middle\" x=\"250\" y=\"-163.3\" font-family=\"Times,serif\" font-size=\"14.00\">data: &#45;4.000</text>\n<polyline fill=\"none\" stroke=\"black\" points=\"209,-155.5 291,-155.5 \"/>\n<text text-anchor=\"middle\" x=\"250\" y=\"-140.3\" font-family=\"Times,serif\" font-size=\"14.00\">grad: 1.000</text>\n</g>\n<!-- 140058052939488&#45;&gt;140058052938384&#45; -->\n<g id=\"edge4\" class=\"edge\">\n<title>140058052939488&#45;&gt;140058052938384&#45;</title>\n<path fill=\"none\" stroke=\"black\" d=\"M291.02,-149.74C301.23,-145.33 312.06,-140.66 321.77,-136.47\"/>\n<polygon fill=\"black\" stroke=\"black\" points=\"323.23,-139.65 331.03,-132.48 320.46,-133.23 323.23,-139.65\"/>\n</g>\n<!-- 140058052939488*&#45;&gt;140058052939488 -->\n<g id=\"edge3\" class=\"edge\">\n<title>140058052939488*&#45;&gt;140058052939488</title>\n<path fill=\"none\" stroke=\"black\" d=\"M173,-167C180.81,-167 189.65,-167 198.48,-167\"/>\n<polygon fill=\"black\" stroke=\"black\" points=\"198.76,-170.5 208.76,-167 198.76,-163.5 198.76,-170.5\"/>\n</g>\n<!-- 140058052936992 -->\n<g id=\"node10\" class=\"node\">\n<title>140058052936992</title>\n<polygon fill=\"none\" stroke=\"black\" points=\"209,-44.5 209,-113.5 291,-113.5 291,-44.5 209,-44.5\"/>\n<text text-anchor=\"middle\" x=\"250\" y=\"-98.3\" font-family=\"Times,serif\" font-size=\"14.00\">c</text>\n<polyline fill=\"none\" stroke=\"black\" points=\"209,-90.5 291,-90.5 \"/>\n<text text-anchor=\"middle\" x=\"250\" y=\"-75.3\" font-family=\"Times,serif\" font-size=\"14.00\">data: &#45;1.000</text>\n<polyline fill=\"none\" stroke=\"black\" points=\"209,-67.5 291,-67.5 \"/>\n<text text-anchor=\"middle\" x=\"250\" y=\"-52.3\" font-family=\"Times,serif\" font-size=\"14.00\">grad: 1.000</text>\n</g>\n<!-- 140058052936992&#45;&gt;140058052938384&#45; -->\n<g id=\"edge5\" class=\"edge\">\n<title>140058052936992&#45;&gt;140058052938384&#45;</title>\n<path fill=\"none\" stroke=\"black\" d=\"M291.02,-96.26C301.23,-100.67 312.06,-105.34 321.77,-109.53\"/>\n<polygon fill=\"black\" stroke=\"black\" points=\"320.46,-112.77 331.03,-113.52 323.23,-106.35 320.46,-112.77\"/>\n</g>\n</g>\n</svg>\n"
          },
          "metadata": {},
          "execution_count": 30
        }
      ],
      "source": [
        "# 3. a = -1, b = 4, c = -1, d = -2; e = a * b; f = c - e; g = f + d\n",
        "\n",
        "a = Value(-1., label = 'a'); a.grad = b.data * e.grad\n",
        "b = Value(4., label = 'b'); b.grad = a.data * e.grad\n",
        "c = Value(-1., label = 'c'); c.grad = 1 * f.grad\n",
        "d = Value(-2., label = 'd'); d.grad = 1 * g.grad\n",
        "e = a * b; e.label = 'e'; e.grad = 1 * f.grad\n",
        "f = c - e; d.label = 'f'; f.grad = 1 * g.grad\n",
        "g = f + d; d.label = 'g'; g.grad =1\n",
        "#L = g; L.label = 'L'; L.grad\n",
        "draw_dot(g)"
      ]
    },
    {
      "cell_type": "code",
      "source": [],
      "metadata": {
        "id": "7BxL-1cgFIpp"
      },
      "execution_count": null,
      "outputs": []
    },
    {
      "cell_type": "code",
      "execution_count": 31,
      "metadata": {
        "colab": {
          "base_uri": "https://localhost:8080/",
          "height": 301
        },
        "id": "KUdBHRBPGvn9",
        "outputId": "74487fdf-b2d2-4e75-c9c3-b2c84b6e0146"
      },
      "outputs": [
        {
          "output_type": "execute_result",
          "data": {
            "text/plain": [
              "<graphviz.dot.Digraph at 0x7f61ce7b9250>"
            ],
            "image/svg+xml": "<?xml version=\"1.0\" encoding=\"UTF-8\" standalone=\"no\"?>\n<!DOCTYPE svg PUBLIC \"-//W3C//DTD SVG 1.1//EN\"\n \"http://www.w3.org/Graphics/SVG/1.1/DTD/svg11.dtd\">\n<!-- Generated by graphviz version 2.43.0 (0)\n -->\n<!-- Title: %3 Pages: 1 -->\n<svg width=\"719pt\" height=\"210pt\"\n viewBox=\"0.00 0.00 719.00 210.00\" xmlns=\"http://www.w3.org/2000/svg\" xmlns:xlink=\"http://www.w3.org/1999/xlink\">\n<g id=\"graph0\" class=\"graph\" transform=\"scale(1 1) rotate(0) translate(4 206)\">\n<title>%3</title>\n<polygon fill=\"white\" stroke=\"transparent\" points=\"-4,4 -4,-206 715,-206 715,4 -4,4\"/>\n<!-- 140058052762640 -->\n<g id=\"node1\" class=\"node\">\n<title>140058052762640</title>\n<polygon fill=\"none\" stroke=\"black\" points=\"205,-132.5 205,-201.5 288,-201.5 288,-132.5 205,-132.5\"/>\n<text text-anchor=\"middle\" x=\"246.5\" y=\"-186.3\" font-family=\"Times,serif\" font-size=\"14.00\">c</text>\n<polyline fill=\"none\" stroke=\"black\" points=\"205,-178.5 288,-178.5 \"/>\n<text text-anchor=\"middle\" x=\"246.5\" y=\"-163.3\" font-family=\"Times,serif\" font-size=\"14.00\">data: &#45;2.000</text>\n<polyline fill=\"none\" stroke=\"black\" points=\"205,-155.5 288,-155.5 \"/>\n<text text-anchor=\"middle\" x=\"246.5\" y=\"-140.3\" font-family=\"Times,serif\" font-size=\"14.00\">grad: &#45;4.000</text>\n</g>\n<!-- 140058052760672* -->\n<g id=\"node4\" class=\"node\">\n<title>140058052760672*</title>\n<ellipse fill=\"none\" stroke=\"black\" cx=\"351\" cy=\"-123\" rx=\"27\" ry=\"18\"/>\n<text text-anchor=\"middle\" x=\"351\" y=\"-119.3\" font-family=\"Times,serif\" font-size=\"14.00\">*</text>\n</g>\n<!-- 140058052762640&#45;&gt;140058052760672* -->\n<g id=\"edge7\" class=\"edge\">\n<title>140058052762640&#45;&gt;140058052760672*</title>\n<path fill=\"none\" stroke=\"black\" d=\"M288.01,-149.61C298.17,-145.25 308.91,-140.64 318.55,-136.5\"/>\n<polygon fill=\"black\" stroke=\"black\" points=\"319.95,-139.71 327.76,-132.55 317.19,-133.27 319.95,-139.71\"/>\n</g>\n<!-- 140058052763216 -->\n<g id=\"node2\" class=\"node\">\n<title>140058052763216</title>\n<polygon fill=\"none\" stroke=\"black\" points=\"415.5,-0.5 415.5,-69.5 494.5,-69.5 494.5,-0.5 415.5,-0.5\"/>\n<text text-anchor=\"middle\" x=\"455\" y=\"-54.3\" font-family=\"Times,serif\" font-size=\"14.00\">g</text>\n<polyline fill=\"none\" stroke=\"black\" points=\"415.5,-46.5 494.5,-46.5 \"/>\n<text text-anchor=\"middle\" x=\"455\" y=\"-31.3\" font-family=\"Times,serif\" font-size=\"14.00\">data: 4.000</text>\n<polyline fill=\"none\" stroke=\"black\" points=\"415.5,-23.5 494.5,-23.5 \"/>\n<text text-anchor=\"middle\" x=\"455\" y=\"-8.3\" font-family=\"Times,serif\" font-size=\"14.00\">grad: 1.000</text>\n</g>\n<!-- 140058052760240&#45; -->\n<g id=\"node8\" class=\"node\">\n<title>140058052760240&#45;</title>\n<ellipse fill=\"none\" stroke=\"black\" cx=\"559\" cy=\"-79\" rx=\"27\" ry=\"18\"/>\n<text text-anchor=\"middle\" x=\"559\" y=\"-75.3\" font-family=\"Times,serif\" font-size=\"14.00\">&#45;</text>\n</g>\n<!-- 140058052763216&#45;&gt;140058052760240&#45; -->\n<g id=\"edge8\" class=\"edge\">\n<title>140058052763216&#45;&gt;140058052760240&#45;</title>\n<path fill=\"none\" stroke=\"black\" d=\"M494.56,-51.63C505.16,-56.21 516.53,-61.11 526.67,-65.49\"/>\n<polygon fill=\"black\" stroke=\"black\" points=\"525.39,-68.74 535.95,-69.49 528.16,-62.32 525.39,-68.74\"/>\n</g>\n<!-- 140058052760672 -->\n<g id=\"node3\" class=\"node\">\n<title>140058052760672</title>\n<polygon fill=\"none\" stroke=\"black\" points=\"414,-88.5 414,-157.5 496,-157.5 496,-88.5 414,-88.5\"/>\n<text text-anchor=\"middle\" x=\"455\" y=\"-142.3\" font-family=\"Times,serif\" font-size=\"14.00\"> </text>\n<polyline fill=\"none\" stroke=\"black\" points=\"414,-134.5 496,-134.5 \"/>\n<text text-anchor=\"middle\" x=\"455\" y=\"-119.3\" font-family=\"Times,serif\" font-size=\"14.00\">data: &#45;6.000</text>\n<polyline fill=\"none\" stroke=\"black\" points=\"414,-111.5 496,-111.5 \"/>\n<text text-anchor=\"middle\" x=\"455\" y=\"-96.3\" font-family=\"Times,serif\" font-size=\"14.00\">grad: 1.000</text>\n</g>\n<!-- 140058052760672&#45;&gt;140058052760240&#45; -->\n<g id=\"edge4\" class=\"edge\">\n<title>140058052760672&#45;&gt;140058052760240&#45;</title>\n<path fill=\"none\" stroke=\"black\" d=\"M496.02,-105.74C506.23,-101.33 517.06,-96.66 526.77,-92.47\"/>\n<polygon fill=\"black\" stroke=\"black\" points=\"528.23,-95.65 536.03,-88.48 525.46,-89.23 528.23,-95.65\"/>\n</g>\n<!-- 140058052760672*&#45;&gt;140058052760672 -->\n<g id=\"edge1\" class=\"edge\">\n<title>140058052760672*&#45;&gt;140058052760672</title>\n<path fill=\"none\" stroke=\"black\" d=\"M378,-123C385.81,-123 394.65,-123 403.48,-123\"/>\n<polygon fill=\"black\" stroke=\"black\" points=\"403.76,-126.5 413.76,-123 403.76,-119.5 403.76,-126.5\"/>\n</g>\n<!-- 140058052762256 -->\n<g id=\"node5\" class=\"node\">\n<title>140058052762256</title>\n<polygon fill=\"none\" stroke=\"black\" points=\"205,-44.5 205,-113.5 288,-113.5 288,-44.5 205,-44.5\"/>\n<text text-anchor=\"middle\" x=\"246.5\" y=\"-98.3\" font-family=\"Times,serif\" font-size=\"14.00\">e</text>\n<polyline fill=\"none\" stroke=\"black\" points=\"205,-90.5 288,-90.5 \"/>\n<text text-anchor=\"middle\" x=\"246.5\" y=\"-75.3\" font-family=\"Times,serif\" font-size=\"14.00\">data: 3.000</text>\n<polyline fill=\"none\" stroke=\"black\" points=\"205,-67.5 288,-67.5 \"/>\n<text text-anchor=\"middle\" x=\"246.5\" y=\"-52.3\" font-family=\"Times,serif\" font-size=\"14.00\">grad: &#45;2.000</text>\n</g>\n<!-- 140058052762256&#45;&gt;140058052760672* -->\n<g id=\"edge5\" class=\"edge\">\n<title>140058052762256&#45;&gt;140058052760672*</title>\n<path fill=\"none\" stroke=\"black\" d=\"M288.01,-96.39C298.17,-100.75 308.91,-105.36 318.55,-109.5\"/>\n<polygon fill=\"black\" stroke=\"black\" points=\"317.19,-112.73 327.76,-113.45 319.95,-106.29 317.19,-112.73\"/>\n</g>\n<!-- 140058052762256&#45; -->\n<g id=\"node6\" class=\"node\">\n<title>140058052762256&#45;</title>\n<ellipse fill=\"none\" stroke=\"black\" cx=\"142\" cy=\"-79\" rx=\"27\" ry=\"18\"/>\n<text text-anchor=\"middle\" x=\"142\" y=\"-75.3\" font-family=\"Times,serif\" font-size=\"14.00\">&#45;</text>\n</g>\n<!-- 140058052762256&#45;&#45;&gt;140058052762256 -->\n<g id=\"edge2\" class=\"edge\">\n<title>140058052762256&#45;&#45;&gt;140058052762256</title>\n<path fill=\"none\" stroke=\"black\" d=\"M169.13,-79C176.89,-79 185.67,-79 194.44,-79\"/>\n<polygon fill=\"black\" stroke=\"black\" points=\"194.67,-82.5 204.67,-79 194.67,-75.5 194.67,-82.5\"/>\n</g>\n<!-- 140058052760240 -->\n<g id=\"node7\" class=\"node\">\n<title>140058052760240</title>\n<polygon fill=\"none\" stroke=\"black\" points=\"622,-44.5 622,-113.5 711,-113.5 711,-44.5 622,-44.5\"/>\n<text text-anchor=\"middle\" x=\"666.5\" y=\"-98.3\" font-family=\"Times,serif\" font-size=\"14.00\"> </text>\n<polyline fill=\"none\" stroke=\"black\" points=\"622,-90.5 711,-90.5 \"/>\n<text text-anchor=\"middle\" x=\"666.5\" y=\"-75.3\" font-family=\"Times,serif\" font-size=\"14.00\">data: &#45;10.000</text>\n<polyline fill=\"none\" stroke=\"black\" points=\"622,-67.5 711,-67.5 \"/>\n<text text-anchor=\"middle\" x=\"666.5\" y=\"-52.3\" font-family=\"Times,serif\" font-size=\"14.00\">grad: 1.000</text>\n</g>\n<!-- 140058052760240&#45;&#45;&gt;140058052760240 -->\n<g id=\"edge3\" class=\"edge\">\n<title>140058052760240&#45;&#45;&gt;140058052760240</title>\n<path fill=\"none\" stroke=\"black\" d=\"M586.08,-79C593.88,-79 602.74,-79 611.64,-79\"/>\n<polygon fill=\"black\" stroke=\"black\" points=\"611.66,-82.5 621.66,-79 611.66,-75.5 611.66,-82.5\"/>\n</g>\n<!-- 140058052760816 -->\n<g id=\"node9\" class=\"node\">\n<title>140058052760816</title>\n<polygon fill=\"none\" stroke=\"black\" points=\"0,-88.5 0,-157.5 79,-157.5 79,-88.5 0,-88.5\"/>\n<text text-anchor=\"middle\" x=\"39.5\" y=\"-142.3\" font-family=\"Times,serif\" font-size=\"14.00\">a</text>\n<polyline fill=\"none\" stroke=\"black\" points=\"0,-134.5 79,-134.5 \"/>\n<text text-anchor=\"middle\" x=\"39.5\" y=\"-119.3\" font-family=\"Times,serif\" font-size=\"14.00\">data: 3.000</text>\n<polyline fill=\"none\" stroke=\"black\" points=\"0,-111.5 79,-111.5 \"/>\n<text text-anchor=\"middle\" x=\"39.5\" y=\"-96.3\" font-family=\"Times,serif\" font-size=\"14.00\">grad: 1.000</text>\n</g>\n<!-- 140058052760816&#45;&gt;140058052762256&#45; -->\n<g id=\"edge9\" class=\"edge\">\n<title>140058052760816&#45;&gt;140058052762256&#45;</title>\n<path fill=\"none\" stroke=\"black\" d=\"M79.07,-106.11C89.2,-101.68 100,-96.95 109.7,-92.71\"/>\n<polygon fill=\"black\" stroke=\"black\" points=\"111.2,-95.87 118.96,-88.65 108.4,-89.45 111.2,-95.87\"/>\n</g>\n<!-- 140058052763456 -->\n<g id=\"node10\" class=\"node\">\n<title>140058052763456</title>\n<polygon fill=\"none\" stroke=\"black\" points=\"0,-0.5 0,-69.5 79,-69.5 79,-0.5 0,-0.5\"/>\n<text text-anchor=\"middle\" x=\"39.5\" y=\"-54.3\" font-family=\"Times,serif\" font-size=\"14.00\">b</text>\n<polyline fill=\"none\" stroke=\"black\" points=\"0,-46.5 79,-46.5 \"/>\n<text text-anchor=\"middle\" x=\"39.5\" y=\"-31.3\" font-family=\"Times,serif\" font-size=\"14.00\">data: 0.000</text>\n<polyline fill=\"none\" stroke=\"black\" points=\"0,-23.5 79,-23.5 \"/>\n<text text-anchor=\"middle\" x=\"39.5\" y=\"-8.3\" font-family=\"Times,serif\" font-size=\"14.00\">grad: 1.000</text>\n</g>\n<!-- 140058052763456&#45;&gt;140058052762256&#45; -->\n<g id=\"edge6\" class=\"edge\">\n<title>140058052763456&#45;&gt;140058052762256&#45;</title>\n<path fill=\"none\" stroke=\"black\" d=\"M79.07,-51.89C89.2,-56.32 100,-61.05 109.7,-65.29\"/>\n<polygon fill=\"black\" stroke=\"black\" points=\"108.4,-68.55 118.96,-69.35 111.2,-62.13 108.4,-68.55\"/>\n</g>\n</g>\n</svg>\n"
          },
          "metadata": {},
          "execution_count": 31
        }
      ],
      "source": [
        "# 4. a = 3, b = 0, c = -2, d = 4; e = a - b; f = c * e;   g = f - d\n",
        "\n",
        "a = Value(3., label = 'a'); a.grad = 1 * e.grad\n",
        "b = Value(0., label = 'b'); b.grad = 1 * e.grad\n",
        "c = Value(-2., label = 'c'); c.grad = e.data * f.grad\n",
        "d = Value(4., label = 'd'); d.grad = 1 * g.grad\n",
        "e = a - b; e.label = 'e'; e.grad = c.data * f.grad\n",
        "f = e * c; d.label = 'f'; f.grad = 1 * g.grad\n",
        "g = f - d; d.label = 'g'; g.grad =1\n",
        "#L = g; L.label = 'L'; L.grad\n",
        "draw_dot(g)"
      ]
    },
    {
      "cell_type": "code",
      "source": [],
      "metadata": {
        "id": "tsNC2Nn1FJ7p"
      },
      "execution_count": null,
      "outputs": []
    },
    {
      "cell_type": "code",
      "execution_count": 14,
      "metadata": {
        "colab": {
          "base_uri": "https://localhost:8080/",
          "height": 360
        },
        "id": "bmdkZye8Gvn9",
        "outputId": "71e796bc-75f3-4912-bd60-a42ee83fc3e8"
      },
      "outputs": [
        {
          "output_type": "execute_result",
          "data": {
            "text/plain": [
              "<graphviz.dot.Digraph at 0x7f61ce7e4400>"
            ],
            "image/svg+xml": "<?xml version=\"1.0\" encoding=\"UTF-8\" standalone=\"no\"?>\n<!DOCTYPE svg PUBLIC \"-//W3C//DTD SVG 1.1//EN\"\n \"http://www.w3.org/Graphics/SVG/1.1/DTD/svg11.dtd\">\n<!-- Generated by graphviz version 2.43.0 (0)\n -->\n<!-- Title: %3 Pages: 1 -->\n<svg width=\"719pt\" height=\"254pt\"\n viewBox=\"0.00 0.00 719.00 254.00\" xmlns=\"http://www.w3.org/2000/svg\" xmlns:xlink=\"http://www.w3.org/1999/xlink\">\n<g id=\"graph0\" class=\"graph\" transform=\"scale(1 1) rotate(0) translate(4 250)\">\n<title>%3</title>\n<polygon fill=\"white\" stroke=\"transparent\" points=\"-4,4 -4,-250 715,-250 715,4 -4,4\"/>\n<!-- 140058053503488 -->\n<g id=\"node1\" class=\"node\">\n<title>140058053503488</title>\n<polygon fill=\"none\" stroke=\"black\" points=\"419.5,-176.5 419.5,-245.5 498.5,-245.5 498.5,-176.5 419.5,-176.5\"/>\n<text text-anchor=\"middle\" x=\"459\" y=\"-230.3\" font-family=\"Times,serif\" font-size=\"14.00\">g</text>\n<polyline fill=\"none\" stroke=\"black\" points=\"419.5,-222.5 498.5,-222.5 \"/>\n<text text-anchor=\"middle\" x=\"459\" y=\"-207.3\" font-family=\"Times,serif\" font-size=\"14.00\">data: 0.000</text>\n<polyline fill=\"none\" stroke=\"black\" points=\"419.5,-199.5 498.5,-199.5 \"/>\n<text text-anchor=\"middle\" x=\"459\" y=\"-184.3\" font-family=\"Times,serif\" font-size=\"14.00\">grad: 1.000</text>\n</g>\n<!-- 140058053504592&#45; -->\n<g id=\"node3\" class=\"node\">\n<title>140058053504592&#45;</title>\n<ellipse fill=\"none\" stroke=\"black\" cx=\"564\" cy=\"-167\" rx=\"27\" ry=\"18\"/>\n<text text-anchor=\"middle\" x=\"564\" y=\"-163.3\" font-family=\"Times,serif\" font-size=\"14.00\">&#45;</text>\n</g>\n<!-- 140058053503488&#45;&gt;140058053504592&#45; -->\n<g id=\"edge4\" class=\"edge\">\n<title>140058053503488&#45;&gt;140058053504592&#45;</title>\n<path fill=\"none\" stroke=\"black\" d=\"M498.65,-194.49C509.46,-189.87 521.08,-184.91 531.44,-180.48\"/>\n<polygon fill=\"black\" stroke=\"black\" points=\"533.08,-183.59 540.9,-176.44 530.33,-177.15 533.08,-183.59\"/>\n</g>\n<!-- 140058053504592 -->\n<g id=\"node2\" class=\"node\">\n<title>140058053504592</title>\n<polygon fill=\"none\" stroke=\"black\" points=\"627,-132.5 627,-201.5 711,-201.5 711,-132.5 627,-132.5\"/>\n<text text-anchor=\"middle\" x=\"669\" y=\"-186.3\" font-family=\"Times,serif\" font-size=\"14.00\"> </text>\n<polyline fill=\"none\" stroke=\"black\" points=\"627,-178.5 711,-178.5 \"/>\n<text text-anchor=\"middle\" x=\"669\" y=\"-163.3\" font-family=\"Times,serif\" font-size=\"14.00\">data: 15.000</text>\n<polyline fill=\"none\" stroke=\"black\" points=\"627,-155.5 711,-155.5 \"/>\n<text text-anchor=\"middle\" x=\"669\" y=\"-140.3\" font-family=\"Times,serif\" font-size=\"14.00\">grad: 1.000</text>\n</g>\n<!-- 140058053504592&#45;&#45;&gt;140058053504592 -->\n<g id=\"edge1\" class=\"edge\">\n<title>140058053504592&#45;&#45;&gt;140058053504592</title>\n<path fill=\"none\" stroke=\"black\" d=\"M591.26,-167C599.05,-167 607.88,-167 616.69,-167\"/>\n<polygon fill=\"black\" stroke=\"black\" points=\"616.97,-170.5 626.97,-167 616.97,-163.5 616.97,-170.5\"/>\n</g>\n<!-- 140058053503632 -->\n<g id=\"node4\" class=\"node\">\n<title>140058053503632</title>\n<polygon fill=\"none\" stroke=\"black\" points=\"417,-88.5 417,-157.5 501,-157.5 501,-88.5 417,-88.5\"/>\n<text text-anchor=\"middle\" x=\"459\" y=\"-142.3\" font-family=\"Times,serif\" font-size=\"14.00\"> </text>\n<polyline fill=\"none\" stroke=\"black\" points=\"417,-134.5 501,-134.5 \"/>\n<text text-anchor=\"middle\" x=\"459\" y=\"-119.3\" font-family=\"Times,serif\" font-size=\"14.00\">data: 15.000</text>\n<polyline fill=\"none\" stroke=\"black\" points=\"417,-111.5 501,-111.5 \"/>\n<text text-anchor=\"middle\" x=\"459\" y=\"-96.3\" font-family=\"Times,serif\" font-size=\"14.00\">grad: 1.000</text>\n</g>\n<!-- 140058053503632&#45;&gt;140058053504592&#45; -->\n<g id=\"edge5\" class=\"edge\">\n<title>140058053503632&#45;&gt;140058053504592&#45;</title>\n<path fill=\"none\" stroke=\"black\" d=\"M501,-140.52C511.19,-144.87 521.94,-149.46 531.58,-153.58\"/>\n<polygon fill=\"black\" stroke=\"black\" points=\"530.22,-156.8 540.79,-157.51 532.97,-150.36 530.22,-156.8\"/>\n</g>\n<!-- 140058053503632* -->\n<g id=\"node5\" class=\"node\">\n<title>140058053503632*</title>\n<ellipse fill=\"none\" stroke=\"black\" cx=\"354\" cy=\"-123\" rx=\"27\" ry=\"18\"/>\n<text text-anchor=\"middle\" x=\"354\" y=\"-119.3\" font-family=\"Times,serif\" font-size=\"14.00\">*</text>\n</g>\n<!-- 140058053503632*&#45;&gt;140058053503632 -->\n<g id=\"edge2\" class=\"edge\">\n<title>140058053503632*&#45;&gt;140058053503632</title>\n<path fill=\"none\" stroke=\"black\" d=\"M381.26,-123C389.05,-123 397.88,-123 406.69,-123\"/>\n<polygon fill=\"black\" stroke=\"black\" points=\"406.97,-126.5 416.97,-123 406.97,-119.5 406.97,-126.5\"/>\n</g>\n<!-- 140058053502144 -->\n<g id=\"node6\" class=\"node\">\n<title>140058053502144</title>\n<polygon fill=\"none\" stroke=\"black\" points=\"3.5,-88.5 3.5,-157.5 82.5,-157.5 82.5,-88.5 3.5,-88.5\"/>\n<text text-anchor=\"middle\" x=\"43\" y=\"-142.3\" font-family=\"Times,serif\" font-size=\"14.00\">a</text>\n<polyline fill=\"none\" stroke=\"black\" points=\"3.5,-134.5 82.5,-134.5 \"/>\n<text text-anchor=\"middle\" x=\"43\" y=\"-119.3\" font-family=\"Times,serif\" font-size=\"14.00\">data: 5.000</text>\n<polyline fill=\"none\" stroke=\"black\" points=\"3.5,-111.5 82.5,-111.5 \"/>\n<text text-anchor=\"middle\" x=\"43\" y=\"-96.3\" font-family=\"Times,serif\" font-size=\"14.00\">grad: 3.000</text>\n</g>\n<!-- 140058053502912* -->\n<g id=\"node9\" class=\"node\">\n<title>140058053502912*</title>\n<ellipse fill=\"none\" stroke=\"black\" cx=\"149\" cy=\"-79\" rx=\"27\" ry=\"18\"/>\n<text text-anchor=\"middle\" x=\"149\" y=\"-75.3\" font-family=\"Times,serif\" font-size=\"14.00\">*</text>\n</g>\n<!-- 140058053502144&#45;&gt;140058053502912* -->\n<g id=\"edge9\" class=\"edge\">\n<title>140058053502144&#45;&gt;140058053502912*</title>\n<path fill=\"none\" stroke=\"black\" d=\"M82.73,-106.62C93.87,-101.9 105.88,-96.82 116.53,-92.31\"/>\n<polygon fill=\"black\" stroke=\"black\" points=\"118.01,-95.49 125.86,-88.37 115.28,-89.04 118.01,-95.49\"/>\n</g>\n<!-- 140058053502768 -->\n<g id=\"node7\" class=\"node\">\n<title>140058053502768</title>\n<polygon fill=\"none\" stroke=\"black\" points=\"212,-132.5 212,-201.5 291,-201.5 291,-132.5 212,-132.5\"/>\n<text text-anchor=\"middle\" x=\"251.5\" y=\"-186.3\" font-family=\"Times,serif\" font-size=\"14.00\">c</text>\n<polyline fill=\"none\" stroke=\"black\" points=\"212,-178.5 291,-178.5 \"/>\n<text text-anchor=\"middle\" x=\"251.5\" y=\"-163.3\" font-family=\"Times,serif\" font-size=\"14.00\">data: 3.000</text>\n<polyline fill=\"none\" stroke=\"black\" points=\"212,-155.5 291,-155.5 \"/>\n<text text-anchor=\"middle\" x=\"251.5\" y=\"-140.3\" font-family=\"Times,serif\" font-size=\"14.00\">grad: 5.000</text>\n</g>\n<!-- 140058053502768&#45;&gt;140058053503632* -->\n<g id=\"edge7\" class=\"edge\">\n<title>140058053502768&#45;&gt;140058053503632*</title>\n<path fill=\"none\" stroke=\"black\" d=\"M291.07,-150.11C301.2,-145.68 312,-140.95 321.7,-136.71\"/>\n<polygon fill=\"black\" stroke=\"black\" points=\"323.2,-139.87 330.96,-132.65 320.4,-133.45 323.2,-139.87\"/>\n</g>\n<!-- 140058053502912 -->\n<g id=\"node8\" class=\"node\">\n<title>140058053502912</title>\n<polygon fill=\"none\" stroke=\"black\" points=\"212,-44.5 212,-113.5 291,-113.5 291,-44.5 212,-44.5\"/>\n<text text-anchor=\"middle\" x=\"251.5\" y=\"-98.3\" font-family=\"Times,serif\" font-size=\"14.00\">e</text>\n<polyline fill=\"none\" stroke=\"black\" points=\"212,-90.5 291,-90.5 \"/>\n<text text-anchor=\"middle\" x=\"251.5\" y=\"-75.3\" font-family=\"Times,serif\" font-size=\"14.00\">data: 5.000</text>\n<polyline fill=\"none\" stroke=\"black\" points=\"212,-67.5 291,-67.5 \"/>\n<text text-anchor=\"middle\" x=\"251.5\" y=\"-52.3\" font-family=\"Times,serif\" font-size=\"14.00\">grad: 3.000</text>\n</g>\n<!-- 140058053502912&#45;&gt;140058053503632* -->\n<g id=\"edge8\" class=\"edge\">\n<title>140058053502912&#45;&gt;140058053503632*</title>\n<path fill=\"none\" stroke=\"black\" d=\"M291.07,-95.89C301.2,-100.32 312,-105.05 321.7,-109.29\"/>\n<polygon fill=\"black\" stroke=\"black\" points=\"320.4,-112.55 330.96,-113.35 323.2,-106.13 320.4,-112.55\"/>\n</g>\n<!-- 140058053502912*&#45;&gt;140058053502912 -->\n<g id=\"edge3\" class=\"edge\">\n<title>140058053502912*&#45;&gt;140058053502912</title>\n<path fill=\"none\" stroke=\"black\" d=\"M176.14,-79C184,-79 192.89,-79 201.72,-79\"/>\n<polygon fill=\"black\" stroke=\"black\" points=\"201.99,-82.5 211.99,-79 201.99,-75.5 201.99,-82.5\"/>\n</g>\n<!-- 140058053502960 -->\n<g id=\"node10\" class=\"node\">\n<title>140058053502960</title>\n<polygon fill=\"none\" stroke=\"black\" points=\"0,-0.5 0,-69.5 86,-69.5 86,-0.5 0,-0.5\"/>\n<text text-anchor=\"middle\" x=\"43\" y=\"-54.3\" font-family=\"Times,serif\" font-size=\"14.00\">b</text>\n<polyline fill=\"none\" stroke=\"black\" points=\"0,-46.5 86,-46.5 \"/>\n<text text-anchor=\"middle\" x=\"43\" y=\"-31.3\" font-family=\"Times,serif\" font-size=\"14.00\">data: 1.000</text>\n<polyline fill=\"none\" stroke=\"black\" points=\"0,-23.5 86,-23.5 \"/>\n<text text-anchor=\"middle\" x=\"43\" y=\"-8.3\" font-family=\"Times,serif\" font-size=\"14.00\">grad: 15.000</text>\n</g>\n<!-- 140058053502960&#45;&gt;140058053502912* -->\n<g id=\"edge6\" class=\"edge\">\n<title>140058053502960&#45;&gt;140058053502912*</title>\n<path fill=\"none\" stroke=\"black\" d=\"M86,-52.77C96.13,-57.05 106.78,-61.56 116.34,-65.61\"/>\n<polygon fill=\"black\" stroke=\"black\" points=\"115.27,-68.95 125.84,-69.63 118,-62.51 115.27,-68.95\"/>\n</g>\n</g>\n</svg>\n"
          },
          "metadata": {},
          "execution_count": 14
        }
      ],
      "source": [
        "# 5. a = 5, b = 1, c = 3, d = 0; e = a * b; f = c * e;   g = f - d\n",
        "\n",
        "a = Value(5., label = 'a'); a.grad = b.data * e.grad\n",
        "b = Value(1., label = 'b'); b.grad = a.data * e.grad\n",
        "c = Value(3., label = 'c'); c.grad = e.data * f.grad\n",
        "d = Value(0., label = 'd'); d.grad = 1 * g.grad\n",
        "e = a * b; e.label = 'e'; e.grad = c.data * f.grad  \n",
        "f = e * c; d.label = 'f'; f.grad = 1 * g.grad\n",
        "g = f - d; d.label = 'g'; g.grad =1\n",
        "#L = g; L.label = 'L'; L.grad\n",
        "draw_dot(g)"
      ]
    }
  ],
  "metadata": {
    "colab": {
      "provenance": []
    },
    "kernelspec": {
      "display_name": "Python 3.8.10 ('base')",
      "language": "python",
      "name": "python3"
    },
    "language_info": {
      "codemirror_mode": {
        "name": "ipython",
        "version": 3
      },
      "file_extension": ".py",
      "mimetype": "text/x-python",
      "name": "python",
      "nbconvert_exporter": "python",
      "pygments_lexer": "ipython3",
      "version": "3.8.10"
    },
    "vscode": {
      "interpreter": {
        "hash": "d4d1e4263499bec80672ea0156c357c1ee493ec2b1c70f0acce89fc37c4a6abe"
      }
    }
  },
  "nbformat": 4,
  "nbformat_minor": 0
}